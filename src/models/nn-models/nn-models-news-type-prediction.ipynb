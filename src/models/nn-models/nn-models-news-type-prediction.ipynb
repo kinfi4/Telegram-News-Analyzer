{
 "cells": [
  {
   "cell_type": "code",
   "execution_count": 1,
   "id": "b5c8d377",
   "metadata": {},
   "outputs": [],
   "source": [
    "import sys\n",
    "import pickle\n",
    "\n",
    "import pandas as pd\n",
    "import numpy as np\n",
    "import matplotlib.pyplot as plt\n",
    "from keras.models import Sequential\n",
    "from keras.preprocessing.text import Tokenizer\n",
    "from keras.preprocessing.sequence import pad_sequences\n",
    "from keras import layers\n",
    "from keras.utils import to_categorical\n",
    "from keras.callbacks import ModelCheckpoint\n",
    "from sklearn.model_selection import train_test_split\n",
    "\n",
    "module_path = '/home/kinfi4/python/Propaganda-Analyzer/src/ETL'\n",
    "if module_path not in sys.path:\n",
    "    sys.path.append(module_path)\n",
    "\n",
    "from services.text_preprocessor import TextPreprocessor\n",
    "from config.config import MAX_POST_LEN_IN_WORDS"
   ]
  },
  {
   "cell_type": "code",
   "execution_count": 2,
   "id": "a5d6fb1d",
   "metadata": {},
   "outputs": [],
   "source": [
    "NUMBER_OF_WORDS_TO_TOKENIZE = 10_000"
   ]
  },
  {
   "cell_type": "code",
   "execution_count": 3,
   "id": "326987b0",
   "metadata": {},
   "outputs": [],
   "source": [
    "def plot_hisory(history_dict: dict):\n",
    "    plt.plot(history_dict['accuracy'])\n",
    "    plt.plot(history_dict['val_accuracy'])\n",
    "    plt.title('model accuracy')\n",
    "    plt.ylabel('accuracy')\n",
    "    plt.xlabel('epoch')\n",
    "    plt.legend(['train', 'test'], loc='upper left')\n",
    "    plt.show()"
   ]
  },
  {
   "cell_type": "code",
   "execution_count": 4,
   "id": "78dce461",
   "metadata": {},
   "outputs": [],
   "source": [
    "def get_model_checkpoint_callback(filepath):\n",
    "    return ModelCheckpoint(\n",
    "        filepath,\n",
    "        save_best_only=True,\n",
    "        monitor='val_accuracy',\n",
    "        verbose=1\n",
    "    )"
   ]
  },
  {
   "cell_type": "code",
   "execution_count": 5,
   "id": "1528d9de",
   "metadata": {},
   "outputs": [],
   "source": [
    "preprocessor = TextPreprocessor()\n",
    "\n",
    "df = pd.read_csv(\n",
    "    '../../data/data.csv',\n",
    "    names=['channel', 'text', 'date', 'type', 'sent']\n",
    ")\n",
    "\n",
    "df['text'] = df['text'].apply(preprocessor.preprocess_and_lemmatize)"
   ]
  },
  {
   "cell_type": "code",
   "execution_count": 6,
   "id": "6970483a",
   "metadata": {},
   "outputs": [],
   "source": [
    "tokenizer = Tokenizer(num_words=NUMBER_OF_WORDS_TO_TOKENIZE)\n",
    "tokenizer.fit_on_texts(df['text'])\n",
    "\n",
    "preprocessor = TextPreprocessor(keras_tokenizer=tokenizer)"
   ]
  },
  {
   "cell_type": "code",
   "execution_count": 7,
   "id": "6896c12e",
   "metadata": {},
   "outputs": [],
   "source": [
    "pickle.dump(tokenizer, open('../trained-models/keras-tokenizer.pk', 'wb'))"
   ]
  },
  {
   "cell_type": "code",
   "execution_count": 8,
   "id": "d0d75b79",
   "metadata": {},
   "outputs": [],
   "source": [
    "text_sequences = preprocessor.keras_tokenize_and_pad_text(\n",
    "    df['text'],\n",
    "    make_preprocessing=True,\n",
    "    max_words_number=MAX_POST_LEN_IN_WORDS,\n",
    "    padding='pre',\n",
    "    truncating='post',\n",
    ")"
   ]
  },
  {
   "cell_type": "code",
   "execution_count": 9,
   "id": "9ea3365b",
   "metadata": {},
   "outputs": [],
   "source": [
    "df['type'] = pd.factorize(df['type'])[0]"
   ]
  },
  {
   "cell_type": "code",
   "execution_count": 10,
   "id": "87045ee7",
   "metadata": {},
   "outputs": [],
   "source": [
    "categorical_types = to_categorical(df['type'])"
   ]
  },
  {
   "cell_type": "code",
   "execution_count": 11,
   "id": "63d4754e",
   "metadata": {},
   "outputs": [],
   "source": [
    "x_train, x_test, y_train, y_test = train_test_split(\n",
    "    text_sequences,\n",
    "    categorical_types,\n",
    "    test_size=0.2\n",
    ")"
   ]
  },
  {
   "cell_type": "markdown",
   "id": "aab39283",
   "metadata": {},
   "source": [
    "# Building a LSTM model"
   ]
  },
  {
   "cell_type": "code",
   "execution_count": 12,
   "id": "e44b5029",
   "metadata": {},
   "outputs": [],
   "source": [
    "lstm_model = Sequential([\n",
    "    layers.Embedding(NUMBER_OF_WORDS_TO_TOKENIZE, 16, input_length=MAX_POST_LEN_IN_WORDS),\n",
    "    layers.LSTM(32, recurrent_dropout=0.2),\n",
    "    layers.Dense(4, activation='softmax')\n",
    "])"
   ]
  },
  {
   "cell_type": "code",
   "execution_count": 13,
   "id": "69ce6ee9",
   "metadata": {},
   "outputs": [],
   "source": [
    "lstm_model.compile('adam', loss='categorical_crossentropy', metrics=['accuracy'])"
   ]
  },
  {
   "cell_type": "code",
   "execution_count": 14,
   "id": "b9a6ec05",
   "metadata": {},
   "outputs": [
    {
     "name": "stdout",
     "output_type": "stream",
     "text": [
      "Epoch 1/15\n",
      "18/18 [==============================] - 6s 142ms/step - loss: 1.3832 - accuracy: 0.2508 - val_loss: 1.3661 - val_accuracy: 0.3279\n",
      "\n",
      "Epoch 00001: val_accuracy improved from -inf to 0.32787, saving model to ../trained-models/lstm-news-type-prediction.h5\n",
      "Epoch 2/15\n",
      "18/18 [==============================] - 2s 95ms/step - loss: 1.3652 - accuracy: 0.3423 - val_loss: 1.3419 - val_accuracy: 0.4426\n",
      "\n",
      "Epoch 00002: val_accuracy improved from 0.32787 to 0.44262, saving model to ../trained-models/lstm-news-type-prediction.h5\n",
      "Epoch 3/15\n",
      "18/18 [==============================] - 2s 95ms/step - loss: 1.3396 - accuracy: 0.4331 - val_loss: 1.2964 - val_accuracy: 0.5082\n",
      "\n",
      "Epoch 00003: val_accuracy improved from 0.44262 to 0.50820, saving model to ../trained-models/lstm-news-type-prediction.h5\n",
      "Epoch 4/15\n",
      "18/18 [==============================] - 2s 108ms/step - loss: 1.2869 - accuracy: 0.4818 - val_loss: 1.2301 - val_accuracy: 0.4918\n",
      "\n",
      "Epoch 00004: val_accuracy did not improve from 0.50820\n",
      "Epoch 5/15\n",
      "18/18 [==============================] - 2s 96ms/step - loss: 1.1182 - accuracy: 0.5403 - val_loss: 1.1643 - val_accuracy: 0.6230\n",
      "\n",
      "Epoch 00005: val_accuracy improved from 0.50820 to 0.62295, saving model to ../trained-models/lstm-news-type-prediction.h5\n",
      "Epoch 6/15\n",
      "18/18 [==============================] - 2s 85ms/step - loss: 0.7882 - accuracy: 0.8027 - val_loss: 1.0800 - val_accuracy: 0.5902\n",
      "\n",
      "Epoch 00006: val_accuracy did not improve from 0.62295\n",
      "Epoch 7/15\n",
      "18/18 [==============================] - 2s 94ms/step - loss: 0.6592 - accuracy: 0.8902 - val_loss: 0.9572 - val_accuracy: 0.6393\n",
      "\n",
      "Epoch 00007: val_accuracy improved from 0.62295 to 0.63934, saving model to ../trained-models/lstm-news-type-prediction.h5\n",
      "Epoch 8/15\n",
      "18/18 [==============================] - 2s 102ms/step - loss: 0.4991 - accuracy: 0.9094 - val_loss: 0.9065 - val_accuracy: 0.7705\n",
      "\n",
      "Epoch 00008: val_accuracy improved from 0.63934 to 0.77049, saving model to ../trained-models/lstm-news-type-prediction.h5\n",
      "Epoch 9/15\n",
      "18/18 [==============================] - 2s 90ms/step - loss: 0.3843 - accuracy: 0.9357 - val_loss: 0.8572 - val_accuracy: 0.7213\n",
      "\n",
      "Epoch 00009: val_accuracy did not improve from 0.77049\n",
      "Epoch 10/15\n",
      "18/18 [==============================] - 2s 110ms/step - loss: 0.3126 - accuracy: 0.9542 - val_loss: 0.8533 - val_accuracy: 0.7377\n",
      "\n",
      "Epoch 00010: val_accuracy did not improve from 0.77049\n",
      "Epoch 11/15\n",
      "18/18 [==============================] - 3s 166ms/step - loss: 0.2847 - accuracy: 0.9501 - val_loss: 0.8384 - val_accuracy: 0.6721\n",
      "\n",
      "Epoch 00011: val_accuracy did not improve from 0.77049\n",
      "Epoch 12/15\n",
      "18/18 [==============================] - 2s 109ms/step - loss: 0.2157 - accuracy: 0.9673 - val_loss: 0.7390 - val_accuracy: 0.7213\n",
      "\n",
      "Epoch 00012: val_accuracy did not improve from 0.77049\n",
      "Epoch 13/15\n",
      "18/18 [==============================] - 2s 136ms/step - loss: 0.1837 - accuracy: 0.9799 - val_loss: 0.6828 - val_accuracy: 0.7541\n",
      "\n",
      "Epoch 00013: val_accuracy did not improve from 0.77049\n",
      "Epoch 14/15\n",
      "18/18 [==============================] - 2s 131ms/step - loss: 0.1692 - accuracy: 0.9835 - val_loss: 0.7115 - val_accuracy: 0.7377\n",
      "\n",
      "Epoch 00014: val_accuracy did not improve from 0.77049\n",
      "Epoch 15/15\n",
      "18/18 [==============================] - 2s 130ms/step - loss: 0.1696 - accuracy: 0.9755 - val_loss: 0.6848 - val_accuracy: 0.7705\n",
      "\n",
      "Epoch 00015: val_accuracy did not improve from 0.77049\n"
     ]
    }
   ],
   "source": [
    "save_callback = get_model_checkpoint_callback('../trained-models/lstm-news-type-prediction.h5')\n",
    "history = lstm_model.fit(\n",
    "    x=x_train,\n",
    "    y=y_train,\n",
    "    epochs=15,\n",
    "    batch_size=32,\n",
    "    validation_split=0.1,\n",
    "    callbacks=[save_callback]\n",
    ")"
   ]
  },
  {
   "cell_type": "code",
   "execution_count": 15,
   "id": "b0da03bf",
   "metadata": {},
   "outputs": [
    {
     "name": "stdout",
     "output_type": "stream",
     "text": [
      "The accuracy of the model = 0.8300653696060181\n"
     ]
    }
   ],
   "source": [
    "score = lstm_model.evaluate(x_test, y_test, verbose=0)\n",
    "\n",
    "print(f'The accuracy of the model = {score[1]}')"
   ]
  },
  {
   "cell_type": "code",
   "execution_count": 16,
   "id": "7e56fe9c",
   "metadata": {},
   "outputs": [
    {
     "data": {
      "image/png": "[encoded data removed]",
      "text/plain": [
       "<Figure size 432x288 with 1 Axes>"
      ]
     },
     "metadata": {
      "needs_background": "light"
     },
     "output_type": "display_data"
    }
   ],
   "source": [
    "plot_hisory(history.history)"
   ]
  },
  {
   "cell_type": "markdown",
   "id": "4a4e9c26",
   "metadata": {},
   "source": [
    "# Building CNN model"
   ]
  },
  {
   "cell_type": "code",
   "execution_count": 17,
   "id": "53e73dbf",
   "metadata": {},
   "outputs": [],
   "source": [
    "cnn_model = Sequential([\n",
    "    layers.Embedding(NUMBER_OF_WORDS_TO_TOKENIZE, 8, input_length=MAX_POST_LEN_IN_WORDS),\n",
    "    layers.Conv1D(250, 4, activation='relu', padding='valid'),\n",
    "    layers.GlobalMaxPool1D(),\n",
    "    layers.Dense(128, activation='relu'),\n",
    "    layers.Dense(4, activation='softmax')\n",
    "])"
   ]
  },
  {
   "cell_type": "code",
   "execution_count": 18,
   "id": "728efb59",
   "metadata": {},
   "outputs": [],
   "source": [
    "cnn_model.compile('adam', loss='categorical_crossentropy', metrics=['accuracy'])"
   ]
  },
  {
   "cell_type": "code",
   "execution_count": 19,
   "id": "906fdd6a",
   "metadata": {},
   "outputs": [
    {
     "name": "stdout",
     "output_type": "stream",
     "text": [
      "Epoch 1/15\n",
      "18/18 [==============================] - 1s 38ms/step - loss: 1.3792 - accuracy: 0.3097 - val_loss: 1.3531 - val_accuracy: 0.3279\n",
      "\n",
      "Epoch 00001: val_accuracy improved from -inf to 0.32787, saving model to ../trained-models/cnn-news-type-prediction.h5\n",
      "Epoch 2/15\n",
      "18/18 [==============================] - 0s 28ms/step - loss: 1.3525 - accuracy: 0.3036 - val_loss: 1.3329 - val_accuracy: 0.3279\n",
      "\n",
      "Epoch 00002: val_accuracy did not improve from 0.32787\n",
      "Epoch 3/15\n",
      "18/18 [==============================] - 1s 29ms/step - loss: 1.3166 - accuracy: 0.3011 - val_loss: 1.2901 - val_accuracy: 0.3770\n",
      "\n",
      "Epoch 00003: val_accuracy improved from 0.32787 to 0.37705, saving model to ../trained-models/cnn-news-type-prediction.h5\n",
      "Epoch 4/15\n",
      "18/18 [==============================] - 1s 32ms/step - loss: 1.2325 - accuracy: 0.4001 - val_loss: 1.2084 - val_accuracy: 0.4918\n",
      "\n",
      "Epoch 00004: val_accuracy improved from 0.37705 to 0.49180, saving model to ../trained-models/cnn-news-type-prediction.h5\n",
      "Epoch 5/15\n",
      "18/18 [==============================] - 1s 37ms/step - loss: 1.0463 - accuracy: 0.6701 - val_loss: 1.0983 - val_accuracy: 0.5574\n",
      "\n",
      "Epoch 00005: val_accuracy improved from 0.49180 to 0.55738, saving model to ../trained-models/cnn-news-type-prediction.h5\n",
      "Epoch 6/15\n",
      "18/18 [==============================] - 0s 23ms/step - loss: 0.7739 - accuracy: 0.7989 - val_loss: 0.9405 - val_accuracy: 0.5902\n",
      "\n",
      "Epoch 00006: val_accuracy improved from 0.55738 to 0.59016, saving model to ../trained-models/cnn-news-type-prediction.h5\n",
      "Epoch 7/15\n",
      "18/18 [==============================] - 1s 32ms/step - loss: 0.4921 - accuracy: 0.8354 - val_loss: 0.7937 - val_accuracy: 0.7377\n",
      "\n",
      "Epoch 00007: val_accuracy improved from 0.59016 to 0.73770, saving model to ../trained-models/cnn-news-type-prediction.h5\n",
      "Epoch 8/15\n",
      "18/18 [==============================] - 0s 23ms/step - loss: 0.2919 - accuracy: 0.8645 - val_loss: 0.7373 - val_accuracy: 0.6885\n",
      "\n",
      "Epoch 00008: val_accuracy did not improve from 0.73770\n",
      "Epoch 9/15\n",
      "18/18 [==============================] - 1s 34ms/step - loss: 0.1780 - accuracy: 0.9841 - val_loss: 0.7752 - val_accuracy: 0.6721\n",
      "\n",
      "Epoch 00009: val_accuracy did not improve from 0.73770\n",
      "Epoch 10/15\n",
      "18/18 [==============================] - 1s 36ms/step - loss: 0.0843 - accuracy: 0.9948 - val_loss: 0.7881 - val_accuracy: 0.6721\n",
      "\n",
      "Epoch 00010: val_accuracy did not improve from 0.73770\n",
      "Epoch 11/15\n",
      "18/18 [==============================] - 0s 26ms/step - loss: 0.0456 - accuracy: 0.9991 - val_loss: 0.8474 - val_accuracy: 0.6885\n",
      "\n",
      "Epoch 00011: val_accuracy did not improve from 0.73770\n",
      "Epoch 12/15\n",
      "18/18 [==============================] - 1s 29ms/step - loss: 0.0264 - accuracy: 0.9993 - val_loss: 0.8814 - val_accuracy: 0.6885\n",
      "\n",
      "Epoch 00012: val_accuracy did not improve from 0.73770\n",
      "Epoch 13/15\n",
      "18/18 [==============================] - 0s 26ms/step - loss: 0.0157 - accuracy: 0.9993 - val_loss: 0.9317 - val_accuracy: 0.6885\n",
      "\n",
      "Epoch 00013: val_accuracy did not improve from 0.73770\n",
      "Epoch 14/15\n",
      "18/18 [==============================] - 1s 30ms/step - loss: 0.0139 - accuracy: 1.0000 - val_loss: 0.9584 - val_accuracy: 0.6885\n",
      "\n",
      "Epoch 00014: val_accuracy did not improve from 0.73770\n",
      "Epoch 15/15\n",
      "18/18 [==============================] - 1s 41ms/step - loss: 0.0075 - accuracy: 1.0000 - val_loss: 0.9610 - val_accuracy: 0.6885\n",
      "\n",
      "Epoch 00015: val_accuracy did not improve from 0.73770\n"
     ]
    }
   ],
   "source": [
    "save_callback = get_model_checkpoint_callback('../trained-models/cnn-news-type-prediction.h5')\n",
    "history = cnn_model.fit(\n",
    "    x=x_train,\n",
    "    y=y_train,\n",
    "    epochs=15,\n",
    "    batch_size=32,\n",
    "    validation_split=0.1,\n",
    "    callbacks=[save_callback]\n",
    ")"
   ]
  },
  {
   "cell_type": "code",
   "execution_count": 20,
   "id": "1c723ddb",
   "metadata": {},
   "outputs": [
    {
     "name": "stdout",
     "output_type": "stream",
     "text": [
      "The accuracy of the model = 0.8366013169288635\n"
     ]
    }
   ],
   "source": [
    "score = cnn_model.evaluate(x_test, y_test, verbose=0)\n",
    "\n",
    "print(f'The accuracy of the model = {score[1]}')"
   ]
  },
  {
   "cell_type": "code",
   "execution_count": 21,
   "id": "8d89be37",
   "metadata": {},
   "outputs": [
    {
     "data": {
      "image/png": "[encoded data removed]",
      "text/plain": [
       "<Figure size 432x288 with 1 Axes>"
      ]
     },
     "metadata": {
      "needs_background": "light"
     },
     "output_type": "display_data"
    }
   ],
   "source": [
    "plot_hisory(history.history)"
   ]
  }
 ],
 "metadata": {
  "kernelspec": {
   "display_name": "Python 3",
   "language": "python",
   "name": "python3"
  },
  "language_info": {
   "codemirror_mode": {
    "name": "ipython",
    "version": 3
   },
   "file_extension": ".py",
   "mimetype": "text/x-python",
   "name": "python",
   "nbconvert_exporter": "python",
   "pygments_lexer": "ipython3",
   "version": "3.8.8"
  }
 },
 "nbformat": 4,
 "nbformat_minor": 5
}

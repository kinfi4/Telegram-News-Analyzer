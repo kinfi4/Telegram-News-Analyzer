{
 "cells": [
  {
   "cell_type": "code",
   "execution_count": 1,
   "id": "b5c8d377",
   "metadata": {},
   "outputs": [],
   "source": [
    "import sys\n",
    "import pickle\n",
    "\n",
    "import pandas as pd\n",
    "import numpy as np\n",
    "import matplotlib.pyplot as plt\n",
    "from keras.models import Sequential\n",
    "from keras.preprocessing.text import Tokenizer\n",
    "from keras.preprocessing.sequence import pad_sequences\n",
    "from keras import layers\n",
    "from keras.utils import to_categorical\n",
    "from keras.callbacks import ModelCheckpoint\n",
    "from sklearn.model_selection import train_test_split\n",
    "\n",
    "module_path = '/home/kinfi4/python/Propaganda-Analyzer/src/ETL'\n",
    "if module_path not in sys.path:\n",
    "    sys.path.append(module_path)\n",
    "\n",
    "from services.text_preprocessor import TextPreprocessor\n",
    "from config.config import MAX_POST_LEN_IN_WORDS"
   ]
  },
  {
   "cell_type": "code",
   "execution_count": 2,
   "id": "a5d6fb1d",
   "metadata": {},
   "outputs": [],
   "source": [
    "NUMBER_OF_WORDS_TO_TOKENIZE = 10_000"
   ]
  },
  {
   "cell_type": "code",
   "execution_count": 3,
   "id": "326987b0",
   "metadata": {},
   "outputs": [],
   "source": [
    "def plot_hisory(history_dict: dict):\n",
    "    plt.plot(history_dict['accuracy'])\n",
    "    plt.plot(history_dict['val_accuracy'])\n",
    "    plt.title('model accuracy')\n",
    "    plt.ylabel('accuracy')\n",
    "    plt.xlabel('epoch')\n",
    "    plt.legend(['train', 'test'], loc='upper left')\n",
    "    plt.show()"
   ]
  },
  {
   "cell_type": "code",
   "execution_count": 4,
   "id": "78dce461",
   "metadata": {},
   "outputs": [],
   "source": [
    "def get_model_checkpoint_callback(filepath):\n",
    "    return ModelCheckpoint(\n",
    "        filepath,\n",
    "        save_best_only=True,\n",
    "        monitor='val_accuracy',\n",
    "        verbose=1\n",
    "    )"
   ]
  },
  {
   "cell_type": "code",
   "execution_count": 5,
   "id": "1528d9de",
   "metadata": {},
   "outputs": [],
   "source": [
    "preprocessor = TextPreprocessor()\n",
    "\n",
    "df = pd.read_csv(\n",
    "    '../../data/training-data/news-for-training.csv',\n",
    "    names=['channel', 'text', 'date', 'type', 'sent']\n",
    ")\n",
    "\n",
    "df['text'] = df['text'].apply(preprocessor.preprocess_and_lemmatize)"
   ]
  },
  {
   "cell_type": "code",
   "execution_count": 9,
   "id": "86c8593a",
   "metadata": {},
   "outputs": [
    {
     "data": {
      "text/html": [
       "<div>\n",
       "<style scoped>\n",
       "    .dataframe tbody tr th:only-of-type {\n",
       "        vertical-align: middle;\n",
       "    }\n",
       "\n",
       "    .dataframe tbody tr th {\n",
       "        vertical-align: top;\n",
       "    }\n",
       "\n",
       "    .dataframe thead th {\n",
       "        text-align: right;\n",
       "    }\n",
       "</style>\n",
       "<table border=\"1\" class=\"dataframe\">\n",
       "  <thead>\n",
       "    <tr style=\"text-align: right;\">\n",
       "      <th></th>\n",
       "      <th>channel</th>\n",
       "      <th>text</th>\n",
       "      <th>date</th>\n",
       "      <th>type</th>\n",
       "      <th>sent</th>\n",
       "    </tr>\n",
       "  </thead>\n",
       "  <tbody>\n",
       "    <tr>\n",
       "      <th>0</th>\n",
       "      <td>раньше всех. ну почти.</td>\n",
       "      <td>президент эстония алар карис признать удаться ...</td>\n",
       "      <td>2022-05-17 18:20:01</td>\n",
       "      <td>economic</td>\n",
       "      <td>-1</td>\n",
       "    </tr>\n",
       "    <tr>\n",
       "      <th>1</th>\n",
       "      <td>раньше всех. ну почти.</td>\n",
       "      <td>россиянин 24 февраль стать тратить раз новость...</td>\n",
       "      <td>2022-05-17 18:11:38</td>\n",
       "      <td>political</td>\n",
       "      <td>-1</td>\n",
       "    </tr>\n",
       "    <tr>\n",
       "      <th>2</th>\n",
       "      <td>раньше всех. ну почти.</td>\n",
       "      <td>суд приговорить эксполковник захарченко совоку...</td>\n",
       "      <td>2022-05-17 17:53:12</td>\n",
       "      <td>shelling</td>\n",
       "      <td>-1</td>\n",
       "    </tr>\n",
       "    <tr>\n",
       "      <th>3</th>\n",
       "      <td>раньше всех. ну почти.</td>\n",
       "      <td>евросоюз допустить украина закончиться оружие ...</td>\n",
       "      <td>2022-05-17 17:44:46</td>\n",
       "      <td>political</td>\n",
       "      <td>-1</td>\n",
       "    </tr>\n",
       "    <tr>\n",
       "      <th>4</th>\n",
       "      <td>раньше всех. ну почти.</td>\n",
       "      <td>сша активно привлекать участие боевой действие...</td>\n",
       "      <td>2022-05-17 17:43:05</td>\n",
       "      <td>political</td>\n",
       "      <td>-1</td>\n",
       "    </tr>\n",
       "  </tbody>\n",
       "</table>\n",
       "</div>"
      ],
      "text/plain": [
       "                  channel                                               text  \\\n",
       "0  раньше всех. ну почти.  президент эстония алар карис признать удаться ...   \n",
       "1  раньше всех. ну почти.  россиянин 24 февраль стать тратить раз новость...   \n",
       "2  раньше всех. ну почти.  суд приговорить эксполковник захарченко совоку...   \n",
       "3  раньше всех. ну почти.  евросоюз допустить украина закончиться оружие ...   \n",
       "4  раньше всех. ну почти.  сша активно привлекать участие боевой действие...   \n",
       "\n",
       "                  date       type  sent  \n",
       "0  2022-05-17 18:20:01   economic    -1  \n",
       "1  2022-05-17 18:11:38  political    -1  \n",
       "2  2022-05-17 17:53:12   shelling    -1  \n",
       "3  2022-05-17 17:44:46  political    -1  \n",
       "4  2022-05-17 17:43:05  political    -1  "
      ]
     },
     "execution_count": 9,
     "metadata": {},
     "output_type": "execute_result"
    }
   ],
   "source": [
    "df.head()"
   ]
  },
  {
   "cell_type": "code",
   "execution_count": 6,
   "id": "6970483a",
   "metadata": {},
   "outputs": [],
   "source": [
    "tokenizer = Tokenizer(num_words=NUMBER_OF_WORDS_TO_TOKENIZE)\n",
    "tokenizer.fit_on_texts(df['text'])\n",
    "\n",
    "preprocessor = TextPreprocessor(keras_tokenizer=tokenizer)"
   ]
  },
  {
   "cell_type": "code",
   "execution_count": 7,
   "id": "6896c12e",
   "metadata": {},
   "outputs": [],
   "source": [
    "pickle.dump(tokenizer, open('../trained-models/keras-tokenizer.pk', 'wb'))"
   ]
  },
  {
   "cell_type": "code",
   "execution_count": 10,
   "id": "d0d75b79",
   "metadata": {},
   "outputs": [],
   "source": [
    "text_sequences = preprocessor.keras_tokenize_and_pad_text(\n",
    "    df['text'],\n",
    "    make_preprocessing=True,\n",
    "    max_words_number=MAX_POST_LEN_IN_WORDS,\n",
    "    padding='pre',\n",
    "    truncating='post',\n",
    ")"
   ]
  },
  {
   "cell_type": "code",
   "execution_count": 11,
   "id": "9ea3365b",
   "metadata": {},
   "outputs": [],
   "source": [
    "df['type'] = pd.factorize(df['type'])[0]"
   ]
  },
  {
   "cell_type": "code",
   "execution_count": 12,
   "id": "87045ee7",
   "metadata": {},
   "outputs": [],
   "source": [
    "categorical_types = to_categorical(df['type'])"
   ]
  },
  {
   "cell_type": "code",
   "execution_count": 13,
   "id": "63d4754e",
   "metadata": {},
   "outputs": [],
   "source": [
    "x_train, x_test, y_train, y_test = train_test_split(\n",
    "    text_sequences,\n",
    "    categorical_types,\n",
    "    test_size=0.2\n",
    ")"
   ]
  },
  {
   "cell_type": "markdown",
   "id": "aab39283",
   "metadata": {},
   "source": [
    "# Building a LSTM model"
   ]
  },
  {
   "cell_type": "code",
   "execution_count": 34,
   "id": "e44b5029",
   "metadata": {},
   "outputs": [],
   "source": [
    "lstm_model = Sequential([\n",
    "    layers.Embedding(NUMBER_OF_WORDS_TO_TOKENIZE, 16, input_length=MAX_POST_LEN_IN_WORDS),\n",
    "    layers.LSTM(32, recurrent_dropout=0.2),\n",
    "    layers.Dense(4, activation='softmax')\n",
    "])"
   ]
  },
  {
   "cell_type": "code",
   "execution_count": 35,
   "id": "69ce6ee9",
   "metadata": {},
   "outputs": [],
   "source": [
    "lstm_model.compile('adam', loss='categorical_crossentropy', metrics=['accuracy'])"
   ]
  },
  {
   "cell_type": "code",
   "execution_count": 36,
   "id": "b9a6ec05",
   "metadata": {},
   "outputs": [
    {
     "name": "stdout",
     "output_type": "stream",
     "text": [
      "Epoch 1/15\n",
      "19/19 [==============================] - 5s 113ms/step - loss: 1.3825 - accuracy: 0.2484 - val_loss: 1.3664 - val_accuracy: 0.3636\n",
      "\n",
      "Epoch 00001: val_accuracy improved from -inf to 0.36364, saving model to ../trained-models/lstm-news-type-prediction.h5\n",
      "Epoch 2/15\n",
      "19/19 [==============================] - 2s 80ms/step - loss: 1.3624 - accuracy: 0.3437 - val_loss: 1.3429 - val_accuracy: 0.3485\n",
      "\n",
      "Epoch 00002: val_accuracy did not improve from 0.36364\n",
      "Epoch 3/15\n",
      "19/19 [==============================] - 1s 77ms/step - loss: 1.3170 - accuracy: 0.4047 - val_loss: 1.2723 - val_accuracy: 0.3636\n",
      "\n",
      "Epoch 00003: val_accuracy did not improve from 0.36364\n",
      "Epoch 4/15\n",
      "19/19 [==============================] - 2s 90ms/step - loss: 1.1784 - accuracy: 0.5155 - val_loss: 1.1508 - val_accuracy: 0.5303\n",
      "\n",
      "Epoch 00004: val_accuracy improved from 0.36364 to 0.53030, saving model to ../trained-models/lstm-news-type-prediction.h5\n",
      "Epoch 5/15\n",
      "19/19 [==============================] - 2s 103ms/step - loss: 0.9166 - accuracy: 0.6966 - val_loss: 1.4429 - val_accuracy: 0.4242\n",
      "\n",
      "Epoch 00005: val_accuracy did not improve from 0.53030\n",
      "Epoch 6/15\n",
      "19/19 [==============================] - 2s 98ms/step - loss: 0.7547 - accuracy: 0.7276 - val_loss: 1.0499 - val_accuracy: 0.6212\n",
      "\n",
      "Epoch 00006: val_accuracy improved from 0.53030 to 0.62121, saving model to ../trained-models/lstm-news-type-prediction.h5\n",
      "Epoch 7/15\n",
      "19/19 [==============================] - 2s 117ms/step - loss: 0.5302 - accuracy: 0.8468 - val_loss: 0.9490 - val_accuracy: 0.7576\n",
      "\n",
      "Epoch 00007: val_accuracy improved from 0.62121 to 0.75758, saving model to ../trained-models/lstm-news-type-prediction.h5\n",
      "Epoch 8/15\n",
      "19/19 [==============================] - 2s 104ms/step - loss: 0.4068 - accuracy: 0.8830 - val_loss: 1.0413 - val_accuracy: 0.7273\n",
      "\n",
      "Epoch 00008: val_accuracy did not improve from 0.75758\n",
      "Epoch 9/15\n",
      "19/19 [==============================] - 2s 95ms/step - loss: 0.3650 - accuracy: 0.8923 - val_loss: 0.9523 - val_accuracy: 0.7879\n",
      "\n",
      "Epoch 00009: val_accuracy improved from 0.75758 to 0.78788, saving model to ../trained-models/lstm-news-type-prediction.h5\n",
      "Epoch 10/15\n",
      "19/19 [==============================] - 2s 92ms/step - loss: 0.2503 - accuracy: 0.9411 - val_loss: 0.9601 - val_accuracy: 0.7727\n",
      "\n",
      "Epoch 00010: val_accuracy did not improve from 0.78788\n",
      "Epoch 11/15\n",
      "19/19 [==============================] - 2s 105ms/step - loss: 0.2685 - accuracy: 0.9573 - val_loss: 0.9652 - val_accuracy: 0.7727\n",
      "\n",
      "Epoch 00011: val_accuracy did not improve from 0.78788\n",
      "Epoch 12/15\n",
      "19/19 [==============================] - 3s 139ms/step - loss: 0.2020 - accuracy: 0.9778 - val_loss: 0.9790 - val_accuracy: 0.7576\n",
      "\n",
      "Epoch 00012: val_accuracy did not improve from 0.78788\n",
      "Epoch 13/15\n",
      "19/19 [==============================] - 3s 136ms/step - loss: 0.1729 - accuracy: 0.9658 - val_loss: 0.9995 - val_accuracy: 0.7576\n",
      "\n",
      "Epoch 00013: val_accuracy did not improve from 0.78788\n",
      "Epoch 14/15\n",
      "19/19 [==============================] - 2s 84ms/step - loss: 0.1629 - accuracy: 0.9753 - val_loss: 1.1910 - val_accuracy: 0.7273\n",
      "\n",
      "Epoch 00014: val_accuracy did not improve from 0.78788\n",
      "Epoch 15/15\n",
      "19/19 [==============================] - 2s 104ms/step - loss: 0.1407 - accuracy: 0.9855 - val_loss: 1.0601 - val_accuracy: 0.7879\n",
      "\n",
      "Epoch 00015: val_accuracy did not improve from 0.78788\n"
     ]
    }
   ],
   "source": [
    "save_callback = get_model_checkpoint_callback('../trained-models/lstm-news-type-prediction.h5')\n",
    "history = lstm_model.fit(\n",
    "    x=x_train,\n",
    "    y=y_train,\n",
    "    epochs=15,\n",
    "    batch_size=32,\n",
    "    validation_split=0.1,\n",
    "    callbacks=[save_callback]\n",
    ")"
   ]
  },
  {
   "cell_type": "code",
   "execution_count": 46,
   "id": "b0da03bf",
   "metadata": {},
   "outputs": [
    {
     "name": "stdout",
     "output_type": "stream",
     "text": [
      "The accuracy of the model = 0.812\n"
     ]
    }
   ],
   "source": [
    "score = lstm_model.evaluate(x_test, y_test, verbose=0)\n",
    "\n",
    "print(f'The accuracy of the model = {round(score[1], 3)}')"
   ]
  },
  {
   "cell_type": "code",
   "execution_count": 39,
   "id": "7e56fe9c",
   "metadata": {},
   "outputs": [
    {
     "data": {
      "image/png": "[encoded data removed]",
      "text/plain": [
       "<Figure size 432x288 with 1 Axes>"
      ]
     },
     "metadata": {
      "needs_background": "light"
     },
     "output_type": "display_data"
    }
   ],
   "source": [
    "plot_hisory(history.history)"
   ]
  },
  {
   "cell_type": "markdown",
   "id": "4a4e9c26",
   "metadata": {},
   "source": [
    "# Building CNN model"
   ]
  },
  {
   "cell_type": "code",
   "execution_count": 40,
   "id": "53e73dbf",
   "metadata": {},
   "outputs": [],
   "source": [
    "cnn_model = Sequential([\n",
    "    layers.Embedding(NUMBER_OF_WORDS_TO_TOKENIZE, 8, input_length=MAX_POST_LEN_IN_WORDS),\n",
    "    layers.Conv1D(250, 4, activation='relu', padding='same'),\n",
    "    layers.GlobalMaxPool1D(),\n",
    "    layers.Dense(128, activation='relu'),\n",
    "    layers.Dense(4, activation='softmax')\n",
    "])"
   ]
  },
  {
   "cell_type": "code",
   "execution_count": 41,
   "id": "728efb59",
   "metadata": {},
   "outputs": [],
   "source": [
    "cnn_model.compile('adam', loss='categorical_crossentropy', metrics=['accuracy'])"
   ]
  },
  {
   "cell_type": "code",
   "execution_count": 42,
   "id": "906fdd6a",
   "metadata": {},
   "outputs": [
    {
     "name": "stdout",
     "output_type": "stream",
     "text": [
      "Epoch 1/15\n",
      "19/19 [==============================] - 1s 35ms/step - loss: 1.3833 - accuracy: 0.2590 - val_loss: 1.3684 - val_accuracy: 0.2424\n",
      "\n",
      "Epoch 00001: val_accuracy improved from -inf to 0.24242, saving model to ../trained-models/cnn-news-type-prediction.h5\n",
      "Epoch 2/15\n",
      "19/19 [==============================] - 0s 23ms/step - loss: 1.3566 - accuracy: 0.2842 - val_loss: 1.3584 - val_accuracy: 0.2424\n",
      "\n",
      "Epoch 00002: val_accuracy did not improve from 0.24242\n",
      "Epoch 3/15\n",
      "19/19 [==============================] - 0s 16ms/step - loss: 1.3365 - accuracy: 0.3262 - val_loss: 1.3297 - val_accuracy: 0.3030\n",
      "\n",
      "Epoch 00003: val_accuracy improved from 0.24242 to 0.30303, saving model to ../trained-models/cnn-news-type-prediction.h5\n",
      "Epoch 4/15\n",
      "19/19 [==============================] - 0s 20ms/step - loss: 1.2535 - accuracy: 0.4546 - val_loss: 1.2326 - val_accuracy: 0.5303\n",
      "\n",
      "Epoch 00004: val_accuracy improved from 0.30303 to 0.53030, saving model to ../trained-models/cnn-news-type-prediction.h5\n",
      "Epoch 5/15\n",
      "19/19 [==============================] - 0s 22ms/step - loss: 1.0217 - accuracy: 0.7261 - val_loss: 0.9711 - val_accuracy: 0.7273\n",
      "\n",
      "Epoch 00005: val_accuracy improved from 0.53030 to 0.72727, saving model to ../trained-models/cnn-news-type-prediction.h5\n",
      "Epoch 6/15\n",
      "19/19 [==============================] - 0s 25ms/step - loss: 0.6653 - accuracy: 0.7864 - val_loss: 0.7037 - val_accuracy: 0.7576\n",
      "\n",
      "Epoch 00006: val_accuracy improved from 0.72727 to 0.75758, saving model to ../trained-models/cnn-news-type-prediction.h5\n",
      "Epoch 7/15\n",
      "19/19 [==============================] - 0s 22ms/step - loss: 0.3813 - accuracy: 0.8212 - val_loss: 0.5799 - val_accuracy: 0.7879\n",
      "\n",
      "Epoch 00007: val_accuracy improved from 0.75758 to 0.78788, saving model to ../trained-models/cnn-news-type-prediction.h5\n",
      "Epoch 8/15\n",
      "19/19 [==============================] - 0s 15ms/step - loss: 0.1732 - accuracy: 0.9778 - val_loss: 0.5307 - val_accuracy: 0.8182\n",
      "\n",
      "Epoch 00008: val_accuracy improved from 0.78788 to 0.81818, saving model to ../trained-models/cnn-news-type-prediction.h5\n",
      "Epoch 9/15\n",
      "19/19 [==============================] - 0s 17ms/step - loss: 0.0904 - accuracy: 0.9872 - val_loss: 0.5311 - val_accuracy: 0.7727\n",
      "\n",
      "Epoch 00009: val_accuracy did not improve from 0.81818\n",
      "Epoch 10/15\n",
      "19/19 [==============================] - 0s 17ms/step - loss: 0.0504 - accuracy: 0.9921 - val_loss: 0.5238 - val_accuracy: 0.7727\n",
      "\n",
      "Epoch 00010: val_accuracy did not improve from 0.81818\n",
      "Epoch 11/15\n",
      "19/19 [==============================] - 0s 23ms/step - loss: 0.0261 - accuracy: 0.9996 - val_loss: 0.5428 - val_accuracy: 0.7576\n",
      "\n",
      "Epoch 00011: val_accuracy did not improve from 0.81818\n",
      "Epoch 12/15\n",
      "19/19 [==============================] - 0s 22ms/step - loss: 0.0167 - accuracy: 0.9997 - val_loss: 0.5379 - val_accuracy: 0.7576\n",
      "\n",
      "Epoch 00012: val_accuracy did not improve from 0.81818\n",
      "Epoch 13/15\n",
      "19/19 [==============================] - 0s 19ms/step - loss: 0.0156 - accuracy: 0.9944 - val_loss: 0.5506 - val_accuracy: 0.7576\n",
      "\n",
      "Epoch 00013: val_accuracy did not improve from 0.81818\n",
      "Epoch 14/15\n",
      "19/19 [==============================] - 0s 23ms/step - loss: 0.0079 - accuracy: 1.0000 - val_loss: 0.5420 - val_accuracy: 0.7576\n",
      "\n",
      "Epoch 00014: val_accuracy did not improve from 0.81818\n",
      "Epoch 15/15\n",
      "19/19 [==============================] - 0s 19ms/step - loss: 0.0064 - accuracy: 1.0000 - val_loss: 0.5587 - val_accuracy: 0.7576\n",
      "\n",
      "Epoch 00015: val_accuracy did not improve from 0.81818\n"
     ]
    }
   ],
   "source": [
    "save_callback = get_model_checkpoint_callback('../trained-models/cnn-news-type-prediction.h5')\n",
    "history = cnn_model.fit(\n",
    "    x=x_train,\n",
    "    y=y_train,\n",
    "    epochs=15,\n",
    "    batch_size=32,\n",
    "    validation_split=0.1,\n",
    "    callbacks=[save_callback]\n",
    ")"
   ]
  },
  {
   "cell_type": "code",
   "execution_count": 45,
   "id": "1c723ddb",
   "metadata": {},
   "outputs": [
    {
     "name": "stdout",
     "output_type": "stream",
     "text": [
      "The accuracy of the model = 0.752\n"
     ]
    }
   ],
   "source": [
    "score = cnn_model.evaluate(x_test, y_test, verbose=0)\n",
    "\n",
    "print(f'The accuracy of the model = {round(score[1], 3)}')"
   ]
  },
  {
   "cell_type": "code",
   "execution_count": 44,
   "id": "8d89be37",
   "metadata": {},
   "outputs": [
    {
     "data": {
      "image/png": "[encoded data removed]",
      "text/plain": [
       "<Figure size 432x288 with 1 Axes>"
      ]
     },
     "metadata": {
      "needs_background": "light"
     },
     "output_type": "display_data"
    }
   ],
   "source": [
    "plot_hisory(history.history)"
   ]
  }
 ],
 "metadata": {
  "kernelspec": {
   "display_name": "Python 3",
   "language": "python",
   "name": "python3"
  },
  "language_info": {
   "codemirror_mode": {
    "name": "ipython",
    "version": 3
   },
   "file_extension": ".py",
   "mimetype": "text/x-python",
   "name": "python",
   "nbconvert_exporter": "python",
   "pygments_lexer": "ipython3",
   "version": "3.8.8"
  }
 },
 "nbformat": 4,
 "nbformat_minor": 5
}

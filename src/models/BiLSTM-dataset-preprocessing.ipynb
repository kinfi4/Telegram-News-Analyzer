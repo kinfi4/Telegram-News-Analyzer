{
 "cells": [
  {
   "cell_type": "code",
   "execution_count": 1,
   "id": "b8258c53",
   "metadata": {},
   "outputs": [],
   "source": [
    "import sys\n",
    "import os\n",
    "\n",
    "module_path = '/home/kinfi4/python/Propaganda-Analyzer/src/ETL'\n",
    "if module_path not in sys.path:\n",
    "    sys.path.append(module_path)\n",
    "\n",
    "from services.text_preprocessor import TextPreprocessor"
   ]
  },
  {
   "cell_type": "code",
   "execution_count": 2,
   "id": "599d2332",
   "metadata": {},
   "outputs": [],
   "source": [
    "import pandas as pd"
   ]
  },
  {
   "cell_type": "code",
   "execution_count": 4,
   "id": "e8b162b6",
   "metadata": {},
   "outputs": [],
   "source": [
    "df = pd.read_json('./training-data/train.json')\n",
    "processor = TextPreprocessor()"
   ]
  },
  {
   "cell_type": "markdown",
   "id": "7e7ccdbc",
   "metadata": {},
   "source": [
    "**0 - negative  \n",
    "1 - positive  \n",
    "2 - neutral**"
   ]
  },
  {
   "cell_type": "code",
   "execution_count": 5,
   "id": "298ab1d4",
   "metadata": {},
   "outputs": [],
   "source": [
    "df = df.drop(columns=['id'])\n",
    "df['text'] = df['text'].str.replace('\\n', '')\n",
    "df['sentiment'] = pd.factorize(df['sentiment'])[0]"
   ]
  },
  {
   "cell_type": "code",
   "execution_count": 6,
   "id": "5b36a94e",
   "metadata": {},
   "outputs": [
    {
     "name": "stdout",
     "output_type": "stream",
     "text": [
      "10min 8s ± 2min 42s per loop (mean ± std. dev. of 7 runs, 1 loop each)\n"
     ]
    }
   ],
   "source": [
    "%%timeit\n",
    "df['text'] = df['text'].apply(processor.preprocess_and_lemmatize)"
   ]
  },
  {
   "cell_type": "code",
   "execution_count": 24,
   "id": "a55dee15",
   "metadata": {},
   "outputs": [],
   "source": [
    "df.to_csv('./training-data/processed-data/processed-dataset.csv', index=False)"
   ]
  }
 ],
 "metadata": {
  "kernelspec": {
   "display_name": "Python 3",
   "language": "python",
   "name": "python3"
  },
  "language_info": {
   "codemirror_mode": {
    "name": "ipython",
    "version": 3
   },
   "file_extension": ".py",
   "mimetype": "text/x-python",
   "name": "python",
   "nbconvert_exporter": "python",
   "pygments_lexer": "ipython3",
   "version": "3.8.8"
  }
 },
 "nbformat": 4,
 "nbformat_minor": 5
}

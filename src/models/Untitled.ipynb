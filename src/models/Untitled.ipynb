{
 "cells": [
  {
   "cell_type": "code",
   "execution_count": 2,
   "id": "b8258c53",
   "metadata": {},
   "outputs": [],
   "source": [
    "import sys\n",
    "import os\n",
    "\n",
    "module_path = '/home/kinfi4/python/Propaganda-Analyzer/src/ETL'\n",
    "if module_path not in sys.path:\n",
    "    sys.path.append(module_path)\n",
    "\n",
    "from services.text_preprocessor import TextPreprocessor"
   ]
  },
  {
   "cell_type": "code",
   "execution_count": 1,
   "id": "599d2332",
   "metadata": {},
   "outputs": [],
   "source": [
    "import nltk\n",
    "import pandas as pd\n",
    "from pymorphy2 import MorphAnalyzer\n",
    "from sklearn.model_selection import train_test_split\n",
    "from keras.preprocessing.sequence import pad_sequences\n",
    "from keras.utils import to_categorical\n",
    "from keras.layers import Dense, SimpleRNN, Embedding\n",
    "from keras.models import Sequential"
   ]
  },
  {
   "cell_type": "code",
   "execution_count": 4,
   "id": "e8b162b6",
   "metadata": {},
   "outputs": [],
   "source": [
    "df = pd.read_json('./training-data/train.json')\n",
    "processor = TextPreprocessor()"
   ]
  },
  {
   "cell_type": "markdown",
   "id": "7e7ccdbc",
   "metadata": {},
   "source": [
    "**0 - negative  \n",
    "1 - positive  \n",
    "2 - neutral**"
   ]
  },
  {
   "cell_type": "code",
   "execution_count": 5,
   "id": "298ab1d4",
   "metadata": {},
   "outputs": [],
   "source": [
    "df = df.drop(columns=['id'])\n",
    "df['text'] = df['text'].str.replace('\\n', '')\n",
    "df['sentiment'] = pd.factorize(df['sentiment'])[0]"
   ]
  },
  {
   "cell_type": "code",
   "execution_count": null,
   "id": "5b36a94e",
   "metadata": {},
   "outputs": [],
   "source": [
    "%%timeit\n",
    "df['text'] = df['text'].apply(processor.preprocess_and_lemmatize)"
   ]
  },
  {
   "cell_type": "code",
   "execution_count": 7,
   "id": "e6318cb9",
   "metadata": {},
   "outputs": [],
   "source": [
    "x_train, y_train, x_test, y_test = train_test_split(df['text'], df['sentiment'], test_size=0.1)"
   ]
  },
  {
   "cell_type": "code",
   "execution_count": null,
   "id": "3710d705",
   "metadata": {},
   "outputs": [],
   "source": []
  }
 ],
 "metadata": {
  "kernelspec": {
   "display_name": "Python 3",
   "language": "python",
   "name": "python3"
  },
  "language_info": {
   "codemirror_mode": {
    "name": "ipython",
    "version": 3
   },
   "file_extension": ".py",
   "mimetype": "text/x-python",
   "name": "python",
   "nbconvert_exporter": "python",
   "pygments_lexer": "ipython3",
   "version": "3.8.8"
  }
 },
 "nbformat": 4,
 "nbformat_minor": 5
}

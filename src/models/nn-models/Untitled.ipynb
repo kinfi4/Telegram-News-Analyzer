{
 "cells": [
  {
   "cell_type": "code",
   "execution_count": 10,
   "id": "523ba9c2",
   "metadata": {},
   "outputs": [],
   "source": [
    "import pandas as pd\n",
    "from sklearn.model_selection import train_test_split\n",
    "from sklearn.neighbors import KNeighborsClassifier\n",
    "from sklearn.svm import SVC\n",
    "from sklearn.feature_extraction.text import TfidfVectorizer"
   ]
  },
  {
   "cell_type": "code",
   "execution_count": 2,
   "id": "ae0110d6",
   "metadata": {},
   "outputs": [],
   "source": [
    "df = pd.read_csv('../training-data/processed-data/processed-dataset.csv')"
   ]
  },
  {
   "cell_type": "code",
   "execution_count": 11,
   "id": "3c691dbc",
   "metadata": {},
   "outputs": [],
   "source": [
    "vectorizer = TfidfVectorizer()\n",
    "texts_vectors = vectorizer.fit_transform(df['text'])"
   ]
  },
  {
   "cell_type": "code",
   "execution_count": 12,
   "id": "38b489c5",
   "metadata": {},
   "outputs": [],
   "source": [
    "x_train, x_test, y_train, y_test = train_test_split(\n",
    "    texts_vectors,\n",
    "    df['sentiment'],\n",
    "    test_size=0.2\n",
    ")"
   ]
  },
  {
   "cell_type": "code",
   "execution_count": null,
   "id": "91d7639b",
   "metadata": {},
   "outputs": [],
   "source": [
    "test_texts = [\n",
    "    'Российские банки отключили от swift',\n",
    "    'оккупанты обстреляли школу',\n",
    "    'макдональдс уходит с рынка России',\n",
    "    'Финляндия вступает в НАТО',\n",
    "    'Путин сказал, что победит в этой войне',\n",
    "    'Солдат с азовстали эвакуировали',\n",
    "    'США заморозили резервы центробанка России',\n",
    "    'Цель операции россии украине заключается не разделе страны части обеспечении гарантий собственной безопасности заявил песков интервью'\n",
    "]\n",
    "\n"
   ]
  }
 ],
 "metadata": {
  "kernelspec": {
   "display_name": "Python 3",
   "language": "python",
   "name": "python3"
  },
  "language_info": {
   "codemirror_mode": {
    "name": "ipython",
    "version": 3
   },
   "file_extension": ".py",
   "mimetype": "text/x-python",
   "name": "python",
   "nbconvert_exporter": "python",
   "pygments_lexer": "ipython3",
   "version": "3.8.8"
  }
 },
 "nbformat": 4,
 "nbformat_minor": 5
}

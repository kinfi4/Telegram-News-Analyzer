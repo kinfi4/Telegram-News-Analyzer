{
 "cells": [
  {
   "cell_type": "code",
   "execution_count": 1,
   "id": "ba9393bc",
   "metadata": {},
   "outputs": [],
   "source": [
    "import sys\n",
    "import pickle\n",
    "\n",
    "import joblib\n",
    "import pandas as pd\n",
    "from sklearn.model_selection import cross_validate, cross_val_predict, train_test_split, KFold\n",
    "from sklearn.svm import SVC\n",
    "from sklearn.neighbors import KNeighborsClassifier\n",
    "from sklearn.tree import DecisionTreeClassifier\n",
    "from sklearn.naive_bayes import GaussianNB\n",
    "from sklearn.feature_extraction.text import TfidfVectorizer\n",
    "\n",
    "module_path = '/home/kinfi4/python/Propaganda-Analyzer/src/ETL'\n",
    "if module_path not in sys.path:\n",
    "    sys.path.append(module_path)\n",
    "\n",
    "from services.domain.text_preprocessor import TextPreprocessor"
   ]
  },
  {
   "cell_type": "markdown",
   "id": "210805dc",
   "metadata": {},
   "source": [
    "## Data preprocessing"
   ]
  },
  {
   "cell_type": "code",
   "execution_count": 17,
   "id": "6117bcf8",
   "metadata": {},
   "outputs": [
    {
     "data": {
      "text/html": [
       "<div>\n",
       "<style scoped>\n",
       "    .dataframe tbody tr th:only-of-type {\n",
       "        vertical-align: middle;\n",
       "    }\n",
       "\n",
       "    .dataframe tbody tr th {\n",
       "        vertical-align: top;\n",
       "    }\n",
       "\n",
       "    .dataframe thead th {\n",
       "        text-align: right;\n",
       "    }\n",
       "</style>\n",
       "<table border=\"1\" class=\"dataframe\">\n",
       "  <thead>\n",
       "    <tr style=\"text-align: right;\">\n",
       "      <th></th>\n",
       "      <th>channel</th>\n",
       "      <th>text</th>\n",
       "      <th>date</th>\n",
       "      <th>type</th>\n",
       "      <th>sent</th>\n",
       "    </tr>\n",
       "  </thead>\n",
       "  <tbody>\n",
       "    <tr>\n",
       "      <th>0</th>\n",
       "      <td>раньше всех. ну почти.</td>\n",
       "      <td>президент эстонии алар карис признал удастся п...</td>\n",
       "      <td>2022-05-17 18:20:01</td>\n",
       "      <td>economic</td>\n",
       "      <td>-1.0</td>\n",
       "    </tr>\n",
       "    <tr>\n",
       "      <th>1</th>\n",
       "      <td>раньше всех. ну почти.</td>\n",
       "      <td>россияне 24 февраля стали тратить раза новости...</td>\n",
       "      <td>2022-05-17 18:11:38</td>\n",
       "      <td>political</td>\n",
       "      <td>-1.0</td>\n",
       "    </tr>\n",
       "    <tr>\n",
       "      <th>2</th>\n",
       "      <td>раньше всех. ну почти.</td>\n",
       "      <td>суд приговорил эксполковника захарченко совоку...</td>\n",
       "      <td>2022-05-17 17:53:12</td>\n",
       "      <td>shelling</td>\n",
       "      <td>-1.0</td>\n",
       "    </tr>\n",
       "    <tr>\n",
       "      <th>3</th>\n",
       "      <td>раньше всех. ну почти.</td>\n",
       "      <td>евросоюз допустит украине закончилось оружие в...</td>\n",
       "      <td>2022-05-17 17:44:46</td>\n",
       "      <td>political</td>\n",
       "      <td>-1.0</td>\n",
       "    </tr>\n",
       "    <tr>\n",
       "      <th>4</th>\n",
       "      <td>раньше всех. ну почти.</td>\n",
       "      <td>сша активно привлекают участия боевых действия...</td>\n",
       "      <td>2022-05-17 17:43:05</td>\n",
       "      <td>political</td>\n",
       "      <td>-1.0</td>\n",
       "    </tr>\n",
       "  </tbody>\n",
       "</table>\n",
       "</div>"
      ],
      "text/plain": [
       "                  channel                                               text  \\\n",
       "0  раньше всех. ну почти.  президент эстонии алар карис признал удастся п...   \n",
       "1  раньше всех. ну почти.  россияне 24 февраля стали тратить раза новости...   \n",
       "2  раньше всех. ну почти.  суд приговорил эксполковника захарченко совоку...   \n",
       "3  раньше всех. ну почти.  евросоюз допустит украине закончилось оружие в...   \n",
       "4  раньше всех. ну почти.  сша активно привлекают участия боевых действия...   \n",
       "\n",
       "                  date       type  sent  \n",
       "0  2022-05-17 18:20:01   economic  -1.0  \n",
       "1  2022-05-17 18:11:38  political  -1.0  \n",
       "2  2022-05-17 17:53:12   shelling  -1.0  \n",
       "3  2022-05-17 17:44:46  political  -1.0  \n",
       "4  2022-05-17 17:43:05  political  -1.0  "
      ]
     },
     "execution_count": 17,
     "metadata": {},
     "output_type": "execute_result"
    }
   ],
   "source": [
    "df = pd.read_csv(\n",
    "    '../data/training-data/news-for-training.csv', \n",
    "    names=['channel', 'text', 'date', 'type', 'sent']\n",
    ")\n",
    "df.head()"
   ]
  },
  {
   "cell_type": "code",
   "execution_count": 18,
   "id": "001f938a",
   "metadata": {},
   "outputs": [
    {
     "data": {
      "text/plain": [
       "political       579\n",
       "shelling        376\n",
       "economic        298\n",
       "humanitarian    271\n",
       "Name: type, dtype: int64"
      ]
     },
     "execution_count": 18,
     "metadata": {},
     "output_type": "execute_result"
    }
   ],
   "source": [
    "df['type'].value_counts()"
   ]
  },
  {
   "cell_type": "code",
   "execution_count": 19,
   "id": "d5d22080",
   "metadata": {},
   "outputs": [],
   "source": [
    "preprocessor = TextPreprocessor()\n",
    "df['text'] = df['text'].apply(preprocessor.preprocess_and_lemmatize)"
   ]
  },
  {
   "cell_type": "code",
   "execution_count": 20,
   "id": "a6f6b13e",
   "metadata": {},
   "outputs": [
    {
     "data": {
      "text/plain": [
       "0    президент эстония алар карис признать удаться ...\n",
       "1    россиянин февраль стать тратить раз новость ин...\n",
       "2    суд приговорить эксполковник захарченко совоку...\n",
       "3    евросоюз допустить украина закончиться оружие ...\n",
       "4    сша активно привлекать участие боевой действие...\n",
       "Name: text, dtype: object"
      ]
     },
     "execution_count": 20,
     "metadata": {},
     "output_type": "execute_result"
    }
   ],
   "source": [
    "df['text'].head()"
   ]
  },
  {
   "cell_type": "code",
   "execution_count": 21,
   "id": "f96727ac",
   "metadata": {},
   "outputs": [],
   "source": [
    "vectorizer = TfidfVectorizer()\n",
    "\n",
    "texts = df['text']\n",
    "train_vectors = vectorizer.fit_transform(texts)  # тренерує наш об'єкт та повертає список векторів, що можна буде юзати для навчання"
   ]
  },
  {
   "cell_type": "code",
   "execution_count": 22,
   "id": "94ccd0d1",
   "metadata": {},
   "outputs": [],
   "source": [
    "pickle.dump(vectorizer, open('./trained-models/vectorizer.pk', 'wb'))"
   ]
  },
  {
   "cell_type": "code",
   "execution_count": 23,
   "id": "5699ab1a",
   "metadata": {},
   "outputs": [
    {
     "data": {
      "text/plain": [
       "0     economic\n",
       "1    political\n",
       "2     shelling\n",
       "Name: type, dtype: object"
      ]
     },
     "execution_count": 23,
     "metadata": {},
     "output_type": "execute_result"
    }
   ],
   "source": [
    "df['type'].head(3)"
   ]
  },
  {
   "cell_type": "code",
   "execution_count": 24,
   "id": "fc73c764",
   "metadata": {},
   "outputs": [
    {
     "data": {
      "text/plain": [
       "Index(['economic', 'political', 'shelling', 'humanitarian'], dtype='object')"
      ]
     },
     "execution_count": 24,
     "metadata": {},
     "output_type": "execute_result"
    }
   ],
   "source": [
    "types = pd.factorize(df['type'])\n",
    "types[1]"
   ]
  },
  {
   "cell_type": "code",
   "execution_count": 25,
   "id": "a3ca0fd3",
   "metadata": {},
   "outputs": [],
   "source": [
    "df['type'] = types[0]"
   ]
  },
  {
   "cell_type": "code",
   "execution_count": 26,
   "id": "f4902020",
   "metadata": {},
   "outputs": [
    {
     "data": {
      "text/plain": [
       "0    0\n",
       "1    1\n",
       "2    2\n",
       "Name: type, dtype: int64"
      ]
     },
     "execution_count": 26,
     "metadata": {},
     "output_type": "execute_result"
    }
   ],
   "source": [
    "df['type'].head(3)"
   ]
  },
  {
   "cell_type": "code",
   "execution_count": 28,
   "id": "edf1f7bb",
   "metadata": {},
   "outputs": [],
   "source": [
    "kfold = KFold(n_splits=5, shuffle=True)"
   ]
  },
  {
   "cell_type": "markdown",
   "id": "ab0cfffb",
   "metadata": {},
   "source": [
    "## SVC Model"
   ]
  },
  {
   "cell_type": "code",
   "execution_count": 31,
   "id": "6c192e53",
   "metadata": {},
   "outputs": [
    {
     "name": "stdout",
     "output_type": "stream",
     "text": [
      "The mean test score is: 0.7993421052631579\n"
     ]
    }
   ],
   "source": [
    "svc = SVC(kernel='linear')\n",
    "# svc = SVC(kernel='rbf')\n",
    "\n",
    "results = cross_validate(svc, X=train_vectors, y=df['type'], cv=kfold, return_estimator=True)\n",
    "\n",
    "print(f'The mean test score is: {results[\"test_score\"].max()}')"
   ]
  },
  {
   "cell_type": "code",
   "execution_count": 33,
   "id": "1c360129",
   "metadata": {},
   "outputs": [],
   "source": [
    "svc = results['estimator'][results['test_score'].argmax()]"
   ]
  },
  {
   "cell_type": "code",
   "execution_count": 34,
   "id": "42140dc4",
   "metadata": {},
   "outputs": [],
   "source": [
    "joblib.dump(svc, open('./trained-models/svc-news-type-prediction.sav', 'wb'))"
   ]
  },
  {
   "cell_type": "markdown",
   "id": "84f6b834",
   "metadata": {},
   "source": [
    "# Gaussian"
   ]
  },
  {
   "cell_type": "code",
   "execution_count": 35,
   "id": "d2f04b89",
   "metadata": {},
   "outputs": [
    {
     "name": "stdout",
     "output_type": "stream",
     "text": [
      "The mean test score is: 0.760655737704918\n"
     ]
    }
   ],
   "source": [
    "nb = GaussianNB()\n",
    "\n",
    "results = cross_validate(nb, X=train_vectors.toarray(), y=df['type'], cv=kfold, return_estimator=True)\n",
    "\n",
    "print(f'The mean test score is: {results[\"test_score\"].max()}')"
   ]
  },
  {
   "cell_type": "code",
   "execution_count": 36,
   "id": "a505e90a",
   "metadata": {},
   "outputs": [],
   "source": [
    "nb = results['estimator'][results['test_score'].argmax()]"
   ]
  },
  {
   "cell_type": "code",
   "execution_count": 37,
   "id": "b8ca118c",
   "metadata": {},
   "outputs": [],
   "source": [
    "joblib.dump(nb, open('./trained-models/nb-news-type-prediction.sav', 'wb'))"
   ]
  },
  {
   "cell_type": "markdown",
   "id": "831a8bf7",
   "metadata": {},
   "source": [
    "# Decision tree"
   ]
  },
  {
   "cell_type": "code",
   "execution_count": 46,
   "id": "57efe254",
   "metadata": {},
   "outputs": [
    {
     "name": "stdout",
     "output_type": "stream",
     "text": [
      "The mean test score is: 0.5967213114754099\n"
     ]
    }
   ],
   "source": [
    "tree = DecisionTreeClassifier(max_depth=20)\n",
    "\n",
    "results = cross_validate(tree, X=train_vectors.toarray(), y=df['type'], cv=kfold, return_estimator=True)\n",
    "\n",
    "print(f'The mean test score is: {results[\"test_score\"].max()}')"
   ]
  },
  {
   "cell_type": "code",
   "execution_count": 43,
   "id": "fed2afcb",
   "metadata": {},
   "outputs": [],
   "source": [
    "best_tree = results['estimator'][results['test_score'].argmax()]"
   ]
  },
  {
   "cell_type": "code",
   "execution_count": 44,
   "id": "5e52b327",
   "metadata": {},
   "outputs": [],
   "source": [
    "joblib.dump(best_tree, open('./trained-models/tree-news-type-prediction.sav', 'wb'))"
   ]
  },
  {
   "cell_type": "markdown",
   "id": "2bd5924e",
   "metadata": {},
   "source": [
    "## KNN Model"
   ]
  },
  {
   "cell_type": "code",
   "execution_count": 48,
   "id": "9cbe4b52",
   "metadata": {},
   "outputs": [
    {
     "name": "stdout",
     "output_type": "stream",
     "text": [
      "KNN model with k=2 has score: 0.7508\n",
      "KNN model with k=3 has score: 0.7368\n",
      "KNN model with k=4 has score: 0.777\n",
      "KNN model with k=5 has score: 0.7672\n",
      "KNN model with k=6 has score: 0.7508\n",
      "KNN model with k=7 has score: 0.7632\n",
      "KNN model with k=8 has score: 0.7541\n",
      "KNN model with k=9 has score: 0.7664\n",
      "------------------------------\n",
      "The best KNN model was trained with k=4 with score: 0.777\n"
     ]
    }
   ],
   "source": [
    "best_knn_model = None\n",
    "best_knn_score, best_knn_k = 0, 0\n",
    "\n",
    "for k in range(2, 10):\n",
    "    knn_model = KNeighborsClassifier(n_neighbors=k)\n",
    "    \n",
    "    results = cross_validate(\n",
    "        knn_model,\n",
    "        X=train_vectors,\n",
    "        y=df['type'], \n",
    "        cv=kfold, \n",
    "        return_estimator=True\n",
    "    )\n",
    "    \n",
    "    max_score = round(results['test_score'].max(), 4)\n",
    "    \n",
    "    print(f'KNN model with {k=} has score: {max_score}')\n",
    "    \n",
    "    if max_score > best_knn_score:\n",
    "        best_knn_score = max_score\n",
    "        best_knn_k = k\n",
    "        best_knn_model = results['estimator'][results['test_score'].argmax()]\n",
    "        \n",
    "print('-' * 30)\n",
    "print(f'The best KNN model was trained with k={best_knn_k} with score: {best_knn_score}')"
   ]
  },
  {
   "cell_type": "code",
   "execution_count": 49,
   "id": "6365e759",
   "metadata": {},
   "outputs": [],
   "source": [
    "joblib.dump(best_knn_model, open('./trained-models/knn-news-type-prediction.sav', 'wb'))"
   ]
  }
 ],
 "metadata": {
  "kernelspec": {
   "display_name": "Python 3",
   "language": "python",
   "name": "python3"
  },
  "language_info": {
   "codemirror_mode": {
    "name": "ipython",
    "version": 3
   },
   "file_extension": ".py",
   "mimetype": "text/x-python",
   "name": "python",
   "nbconvert_exporter": "python",
   "pygments_lexer": "ipython3",
   "version": "3.8.8"
  }
 },
 "nbformat": 4,
 "nbformat_minor": 5
}

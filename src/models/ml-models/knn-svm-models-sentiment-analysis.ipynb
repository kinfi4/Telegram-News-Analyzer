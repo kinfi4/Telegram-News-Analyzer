{
 "cells": [
  {
   "cell_type": "code",
   "execution_count": 1,
   "id": "396d30fb",
   "metadata": {},
   "outputs": [],
   "source": [
    "import sys\n",
    "import os\n",
    "\n",
    "module_path = '/home/kinfi4/python/Propaganda-Analyzer/src/ETL'\n",
    "if module_path not in sys.path:\n",
    "    sys.path.append(module_path)\n",
    "\n",
    "from services.text_preprocessor import TextPreprocessor"
   ]
  },
  {
   "cell_type": "code",
   "execution_count": 2,
   "id": "7c55d05d",
   "metadata": {},
   "outputs": [],
   "source": [
    "import pickle\n",
    "\n",
    "import pandas as pd\n",
    "import numpy as np\n",
    "from sklearn.neighbors import KNeighborsClassifier\n",
    "from sklearn.svm import SVC\n",
    "from sklearn.feature_extraction.text import TfidfVectorizer\n",
    "from sklearn.model_selection import train_test_split"
   ]
  },
  {
   "cell_type": "code",
   "execution_count": 3,
   "id": "40266993",
   "metadata": {},
   "outputs": [],
   "source": [
    "df = pd.read_csv('../data/news-posts-truncated/data.csv',\n",
    "                 names=['channel', 'text', 'date', 'type', 'sentiment'])\n",
    "processor = TextPreprocessor()"
   ]
  },
  {
   "cell_type": "code",
   "execution_count": 5,
   "id": "bf7ece08",
   "metadata": {},
   "outputs": [],
   "source": [
    "df['text'] = df['text'].apply(processor.preprocess_and_lemmatize)\n",
    "\n",
    "x_train, x_test, y_train, y_test = train_test_split(\n",
    "    df['text'],\n",
    "    df['sentiment'],\n",
    "    test_size=0.2\n",
    ")"
   ]
  },
  {
   "cell_type": "code",
   "execution_count": 6,
   "id": "d6313d78",
   "metadata": {},
   "outputs": [],
   "source": [
    "vectorizer = TfidfVectorizer()\n",
    "train_vectors = vectorizer.fit_transform(x_train)\n",
    "test_vectors = vectorizer.transform(x_test)"
   ]
  },
  {
   "cell_type": "code",
   "execution_count": 22,
   "id": "9549544f",
   "metadata": {},
   "outputs": [],
   "source": [
    "pickle.dump(vectorizer, open('./trained-models/vectorizer.sav', 'wb'))"
   ]
  },
  {
   "cell_type": "code",
   "execution_count": 7,
   "id": "9413c8d9",
   "metadata": {},
   "outputs": [
    {
     "name": "stdout",
     "output_type": "stream",
     "text": [
      "The score for KNN with k=2 is: 0.722\n",
      "The score for KNN with k=3 is: 0.685\n",
      "The score for KNN with k=4 is: 0.685\n",
      "The score for KNN with k=5 is: 0.667\n",
      "The score for KNN with k=6 is: 0.685\n",
      "The score for KNN with k=7 is: 0.667\n",
      "The score for KNN with k=8 is: 0.63\n",
      "The score for KNN with k=9 is: 0.593\n",
      "The score for KNN with k=10 is: 0.63\n",
      "The score for KNN with k=11 is: 0.63\n",
      "--------------------------------------------------\n",
      "The best result was gained with k=2 and is equal to: 0.722\n"
     ]
    }
   ],
   "source": [
    "best_result, best_k = 0, 0\n",
    "best_knn_model = None\n",
    "\n",
    "for k in range(2, 12):\n",
    "    knn = KNeighborsClassifier(n_neighbors=k)\n",
    "    knn.fit(train_vectors.toarray(), y_train)\n",
    "    \n",
    "    evaluation_result = round(knn.score(test_vectors, y_test), 3)\n",
    "    print(f'The score for KNN with {k=} is: {evaluation_result}')\n",
    "    \n",
    "    if best_knn_model is None or evaluation_result > best_result:\n",
    "        best_result = evaluation_result\n",
    "        best_k = k\n",
    "        best_knn_model = knn\n",
    "\n",
    "print('-' * 50)\n",
    "print(f'The best result was gained with k={best_k} and is equal to: {best_result}')"
   ]
  },
  {
   "cell_type": "code",
   "execution_count": 8,
   "id": "00a5ae81",
   "metadata": {},
   "outputs": [
    {
     "name": "stdout",
     "output_type": "stream",
     "text": [
      "The score for SVM is: 0.6666666666666666\n"
     ]
    }
   ],
   "source": [
    "svc = SVC()\n",
    "svc.fit(train_vectors, y_train)\n",
    "print(f'The score for SVM is: {svc.score(test_vectors, y_test)}')"
   ]
  },
  {
   "cell_type": "code",
   "execution_count": 19,
   "id": "d3fb2671",
   "metadata": {},
   "outputs": [
    {
     "data": {
      "text/plain": [
       "1"
      ]
     },
     "execution_count": 19,
     "metadata": {},
     "output_type": "execute_result"
    }
   ],
   "source": [
    "lemas = processor.preprocess_and_lemmatize(\"люди эвакуация\")\n",
    "\n",
    "result = vectorizer.transform([lemas])\n",
    "\n",
    "knn.predict(result)[0]"
   ]
  },
  {
   "cell_type": "code",
   "execution_count": null,
   "id": "d37f67f0",
   "metadata": {},
   "outputs": [],
   "source": [
    "pickle.dump(svc, open('./trained-models/svc.sav', 'wb'))\n",
    "pickle.dump(best_knn_model, open('./trained-models/knn.sav', 'wb'))"
   ]
  }
 ],
 "metadata": {
  "kernelspec": {
   "display_name": "Python 3",
   "language": "python",
   "name": "python3"
  },
  "language_info": {
   "codemirror_mode": {
    "name": "ipython",
    "version": 3
   },
   "file_extension": ".py",
   "mimetype": "text/x-python",
   "name": "python",
   "nbconvert_exporter": "python",
   "pygments_lexer": "ipython3",
   "version": "3.8.8"
  }
 },
 "nbformat": 4,
 "nbformat_minor": 5
}

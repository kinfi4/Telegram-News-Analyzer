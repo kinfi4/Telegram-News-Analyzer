{
 "cells": [
  {
   "cell_type": "code",
   "execution_count": 1,
   "id": "b5c8d377",
   "metadata": {},
   "outputs": [],
   "source": [
    "import sys\n",
    "import pickle\n",
    "\n",
    "import joblib\n",
    "import pandas as pd\n",
    "import numpy as np\n",
    "import matplotlib.pyplot as plt\n",
    "from keras.models import Sequential\n",
    "from keras.preprocessing.text import Tokenizer\n",
    "from keras.preprocessing.sequence import pad_sequences\n",
    "from keras import layers\n",
    "from keras.utils import to_categorical\n",
    "from keras.callbacks import ModelCheckpoint\n",
    "from sklearn.model_selection import train_test_split\n",
    "\n",
    "module_path = '/home/kinfi4/python/Propaganda-Analyzer/src/ETL'\n",
    "if module_path not in sys.path:\n",
    "    sys.path.append(module_path)\n",
    "\n",
    "from services.domain.text_preprocessor import TextPreprocessor\n",
    "from config.config import MAX_POST_LEN_IN_WORDS"
   ]
  },
  {
   "cell_type": "code",
   "execution_count": 3,
   "id": "a5d6fb1d",
   "metadata": {},
   "outputs": [],
   "source": [
    "NUMBER_OF_WORDS_TO_TOKENIZE = 20_000"
   ]
  },
  {
   "cell_type": "code",
   "execution_count": 4,
   "id": "326987b0",
   "metadata": {},
   "outputs": [],
   "source": [
    "def plot_hisory(history_dict: dict):\n",
    "    plt.plot(history_dict['accuracy'])\n",
    "    plt.plot(history_dict['val_accuracy'])\n",
    "    plt.title('model accuracy')\n",
    "    plt.ylabel('accuracy')\n",
    "    plt.xlabel('epoch')\n",
    "    plt.legend(['train', 'test'], loc='upper left')\n",
    "    plt.show()"
   ]
  },
  {
   "cell_type": "code",
   "execution_count": 5,
   "id": "78dce461",
   "metadata": {},
   "outputs": [],
   "source": [
    "def get_model_checkpoint_callback(filepath):\n",
    "    return ModelCheckpoint(\n",
    "        filepath,\n",
    "        save_best_only=True,\n",
    "        monitor='val_accuracy',\n",
    "        verbose=1\n",
    "    )"
   ]
  },
  {
   "cell_type": "code",
   "execution_count": 6,
   "id": "1528d9de",
   "metadata": {},
   "outputs": [],
   "source": [
    "preprocessor = TextPreprocessor()\n",
    "\n",
    "df = pd.read_csv(\n",
    "    '../data/training-data/news-for-training.csv',\n",
    "    names=['channel', 'text', 'date', 'type', 'sent']\n",
    ")\n",
    "\n",
    "df['text'] = df['text'].apply(preprocessor.preprocess_and_lemmatize)"
   ]
  },
  {
   "cell_type": "code",
   "execution_count": 7,
   "id": "86c8593a",
   "metadata": {},
   "outputs": [
    {
     "data": {
      "text/html": [
       "<div>\n",
       "<style scoped>\n",
       "    .dataframe tbody tr th:only-of-type {\n",
       "        vertical-align: middle;\n",
       "    }\n",
       "\n",
       "    .dataframe tbody tr th {\n",
       "        vertical-align: top;\n",
       "    }\n",
       "\n",
       "    .dataframe thead th {\n",
       "        text-align: right;\n",
       "    }\n",
       "</style>\n",
       "<table border=\"1\" class=\"dataframe\">\n",
       "  <thead>\n",
       "    <tr style=\"text-align: right;\">\n",
       "      <th></th>\n",
       "      <th>channel</th>\n",
       "      <th>text</th>\n",
       "      <th>date</th>\n",
       "      <th>type</th>\n",
       "      <th>sent</th>\n",
       "    </tr>\n",
       "  </thead>\n",
       "  <tbody>\n",
       "    <tr>\n",
       "      <th>0</th>\n",
       "      <td>раньше всех. ну почти.</td>\n",
       "      <td>президент эстония алар карис признать удаться ...</td>\n",
       "      <td>2022-05-17 18:20:01</td>\n",
       "      <td>economic</td>\n",
       "      <td>-1</td>\n",
       "    </tr>\n",
       "    <tr>\n",
       "      <th>1</th>\n",
       "      <td>раньше всех. ну почти.</td>\n",
       "      <td>россиянин февраль стать тратить раз новость ин...</td>\n",
       "      <td>2022-05-17 18:11:38</td>\n",
       "      <td>political</td>\n",
       "      <td>-1</td>\n",
       "    </tr>\n",
       "    <tr>\n",
       "      <th>2</th>\n",
       "      <td>раньше всех. ну почти.</td>\n",
       "      <td>суд приговорить эксполковник захарченко совоку...</td>\n",
       "      <td>2022-05-17 17:53:12</td>\n",
       "      <td>shelling</td>\n",
       "      <td>-1</td>\n",
       "    </tr>\n",
       "    <tr>\n",
       "      <th>3</th>\n",
       "      <td>раньше всех. ну почти.</td>\n",
       "      <td>евросоюз допустить украина закончиться оружие ...</td>\n",
       "      <td>2022-05-17 17:44:46</td>\n",
       "      <td>political</td>\n",
       "      <td>-1</td>\n",
       "    </tr>\n",
       "    <tr>\n",
       "      <th>4</th>\n",
       "      <td>раньше всех. ну почти.</td>\n",
       "      <td>сша активно привлекать участие боевой действие...</td>\n",
       "      <td>2022-05-17 17:43:05</td>\n",
       "      <td>political</td>\n",
       "      <td>-1</td>\n",
       "    </tr>\n",
       "  </tbody>\n",
       "</table>\n",
       "</div>"
      ],
      "text/plain": [
       "                  channel                                               text  \\\n",
       "0  раньше всех. ну почти.  президент эстония алар карис признать удаться ...   \n",
       "1  раньше всех. ну почти.  россиянин февраль стать тратить раз новость ин...   \n",
       "2  раньше всех. ну почти.  суд приговорить эксполковник захарченко совоку...   \n",
       "3  раньше всех. ну почти.  евросоюз допустить украина закончиться оружие ...   \n",
       "4  раньше всех. ну почти.  сша активно привлекать участие боевой действие...   \n",
       "\n",
       "                  date       type  sent  \n",
       "0  2022-05-17 18:20:01   economic    -1  \n",
       "1  2022-05-17 18:11:38  political    -1  \n",
       "2  2022-05-17 17:53:12   shelling    -1  \n",
       "3  2022-05-17 17:44:46  political    -1  \n",
       "4  2022-05-17 17:43:05  political    -1  "
      ]
     },
     "execution_count": 7,
     "metadata": {},
     "output_type": "execute_result"
    }
   ],
   "source": [
    "df.head()"
   ]
  },
  {
   "cell_type": "code",
   "execution_count": 8,
   "id": "50b623f8",
   "metadata": {},
   "outputs": [
    {
     "data": {
      "text/plain": [
       "political       385\n",
       "shelling        286\n",
       "economic        242\n",
       "humanitarian    184\n",
       "Name: type, dtype: int64"
      ]
     },
     "execution_count": 8,
     "metadata": {},
     "output_type": "execute_result"
    }
   ],
   "source": [
    "df['type'].value_counts()"
   ]
  },
  {
   "cell_type": "code",
   "execution_count": 9,
   "id": "6970483a",
   "metadata": {},
   "outputs": [],
   "source": [
    "tokenizer = Tokenizer(num_words=NUMBER_OF_WORDS_TO_TOKENIZE)\n",
    "tokenizer.fit_on_texts(df['text'])\n",
    "\n",
    "preprocessor = TextPreprocessor(keras_tokenizer=tokenizer)"
   ]
  },
  {
   "cell_type": "code",
   "execution_count": 10,
   "id": "6896c12e",
   "metadata": {},
   "outputs": [],
   "source": [
    "pickle.dump(tokenizer, open('./trained-models/keras-tokenizer.pk', 'wb'))"
   ]
  },
  {
   "cell_type": "code",
   "execution_count": 11,
   "id": "d0d75b79",
   "metadata": {},
   "outputs": [],
   "source": [
    "text_sequences = preprocessor.keras_tokenize_and_pad_text(\n",
    "    df['text'],\n",
    "    make_preprocessing=True,\n",
    "    max_words_number=MAX_POST_LEN_IN_WORDS,\n",
    "    padding='pre',\n",
    "    truncating='post',\n",
    ")"
   ]
  },
  {
   "cell_type": "code",
   "execution_count": 12,
   "id": "9ea3365b",
   "metadata": {},
   "outputs": [],
   "source": [
    "df['type'] = pd.factorize(df['type'])[0]"
   ]
  },
  {
   "cell_type": "code",
   "execution_count": 13,
   "id": "87045ee7",
   "metadata": {},
   "outputs": [],
   "source": [
    "categorical_types = to_categorical(df['type'])"
   ]
  },
  {
   "cell_type": "code",
   "execution_count": 14,
   "id": "63d4754e",
   "metadata": {},
   "outputs": [],
   "source": [
    "x_train, x_test, y_train, y_test = train_test_split(\n",
    "    text_sequences,\n",
    "    categorical_types,\n",
    "    test_size=0.2\n",
    ")"
   ]
  },
  {
   "cell_type": "markdown",
   "id": "aab39283",
   "metadata": {},
   "source": [
    "# Building a LSTM model"
   ]
  },
  {
   "cell_type": "code",
   "execution_count": 19,
   "id": "e44b5029",
   "metadata": {},
   "outputs": [],
   "source": [
    "lstm_model = Sequential([\n",
    "    layers.Embedding(NUMBER_OF_WORDS_TO_TOKENIZE, 16, input_length=MAX_POST_LEN_IN_WORDS),\n",
    "    layers.LSTM(32, recurrent_dropout=0.2),\n",
    "    layers.Dense(4, activation='softmax')\n",
    "])"
   ]
  },
  {
   "cell_type": "code",
   "execution_count": 20,
   "id": "69ce6ee9",
   "metadata": {},
   "outputs": [],
   "source": [
    "lstm_model.compile('adam', loss='categorical_crossentropy', metrics=['accuracy'])"
   ]
  },
  {
   "cell_type": "code",
   "execution_count": 21,
   "id": "b9a6ec05",
   "metadata": {},
   "outputs": [
    {
     "name": "stdout",
     "output_type": "stream",
     "text": [
      "Epoch 1/15\n",
      "25/25 [==============================] - 10s 229ms/step - loss: 1.3826 - accuracy: 0.3038 - val_loss: 1.3619 - val_accuracy: 0.3750\n",
      "\n",
      "Epoch 00001: val_accuracy improved from -inf to 0.37500, saving model to ./trained-models/lstm-news-type-prediction.h5\n",
      "Epoch 2/15\n",
      "25/25 [==============================] - 6s 233ms/step - loss: 1.3473 - accuracy: 0.3604 - val_loss: 1.3051 - val_accuracy: 0.4091\n",
      "\n",
      "Epoch 00002: val_accuracy improved from 0.37500 to 0.40909, saving model to ./trained-models/lstm-news-type-prediction.h5\n",
      "Epoch 3/15\n",
      "25/25 [==============================] - 8s 334ms/step - loss: 1.2455 - accuracy: 0.4490 - val_loss: 1.1896 - val_accuracy: 0.4886\n",
      "\n",
      "Epoch 00003: val_accuracy improved from 0.40909 to 0.48864, saving model to ./trained-models/lstm-news-type-prediction.h5\n",
      "Epoch 4/15\n",
      "25/25 [==============================] - 10s 367ms/step - loss: 1.0709 - accuracy: 0.5093 - val_loss: 1.0199 - val_accuracy: 0.6136\n",
      "\n",
      "Epoch 00004: val_accuracy improved from 0.48864 to 0.61364, saving model to ./trained-models/lstm-news-type-prediction.h5\n",
      "Epoch 5/15\n",
      "25/25 [==============================] - 7s 282ms/step - loss: 0.7598 - accuracy: 0.6959 - val_loss: 0.8833 - val_accuracy: 0.7386\n",
      "\n",
      "Epoch 00005: val_accuracy improved from 0.61364 to 0.73864, saving model to ./trained-models/lstm-news-type-prediction.h5\n",
      "Epoch 6/15\n",
      "25/25 [==============================] - 9s 354ms/step - loss: 0.4992 - accuracy: 0.8772 - val_loss: 0.9533 - val_accuracy: 0.7386\n",
      "\n",
      "Epoch 00006: val_accuracy did not improve from 0.73864\n",
      "Epoch 7/15\n",
      "25/25 [==============================] - 5s 197ms/step - loss: 0.2916 - accuracy: 0.9322 - val_loss: 0.9431 - val_accuracy: 0.7386\n",
      "\n",
      "Epoch 00007: val_accuracy did not improve from 0.73864\n",
      "Epoch 8/15\n",
      "25/25 [==============================] - 7s 287ms/step - loss: 0.2459 - accuracy: 0.9599 - val_loss: 0.9701 - val_accuracy: 0.7500\n",
      "\n",
      "Epoch 00008: val_accuracy improved from 0.73864 to 0.75000, saving model to ./trained-models/lstm-news-type-prediction.h5\n",
      "Epoch 9/15\n",
      "25/25 [==============================] - 8s 337ms/step - loss: 0.1546 - accuracy: 0.9696 - val_loss: 1.1582 - val_accuracy: 0.7159\n",
      "\n",
      "Epoch 00009: val_accuracy did not improve from 0.75000\n",
      "Epoch 10/15\n",
      "25/25 [==============================] - 8s 319ms/step - loss: 0.1101 - accuracy: 0.9786 - val_loss: 1.1639 - val_accuracy: 0.7500\n",
      "\n",
      "Epoch 00010: val_accuracy did not improve from 0.75000\n",
      "Epoch 11/15\n",
      "25/25 [==============================] - 7s 279ms/step - loss: 0.0841 - accuracy: 0.9848 - val_loss: 1.1686 - val_accuracy: 0.7614\n",
      "\n",
      "Epoch 00011: val_accuracy improved from 0.75000 to 0.76136, saving model to ./trained-models/lstm-news-type-prediction.h5\n",
      "Epoch 12/15\n",
      "25/25 [==============================] - 8s 312ms/step - loss: 0.0655 - accuracy: 0.9902 - val_loss: 1.1195 - val_accuracy: 0.7841\n",
      "\n",
      "Epoch 00012: val_accuracy improved from 0.76136 to 0.78409, saving model to ./trained-models/lstm-news-type-prediction.h5\n",
      "Epoch 13/15\n",
      "25/25 [==============================] - 8s 304ms/step - loss: 0.0608 - accuracy: 0.9946 - val_loss: 1.1471 - val_accuracy: 0.7386\n",
      "\n",
      "Epoch 00013: val_accuracy did not improve from 0.78409\n",
      "Epoch 14/15\n",
      "25/25 [==============================] - 7s 291ms/step - loss: 0.0532 - accuracy: 0.9926 - val_loss: 1.2211 - val_accuracy: 0.7727\n",
      "\n",
      "Epoch 00014: val_accuracy did not improve from 0.78409\n",
      "Epoch 15/15\n",
      "25/25 [==============================] - 7s 282ms/step - loss: 0.0449 - accuracy: 0.9896 - val_loss: 1.2314 - val_accuracy: 0.7727\n",
      "\n",
      "Epoch 00015: val_accuracy did not improve from 0.78409\n"
     ]
    }
   ],
   "source": [
    "save_callback = get_model_checkpoint_callback('./trained-models/lstm-news-type-prediction.h5')\n",
    "history = lstm_model.fit(\n",
    "    x=x_train,\n",
    "    y=y_train,\n",
    "    epochs=15,\n",
    "    batch_size=32,\n",
    "    validation_split=0.1,\n",
    "    callbacks=[save_callback]\n",
    ")"
   ]
  },
  {
   "cell_type": "code",
   "execution_count": 22,
   "id": "b0da03bf",
   "metadata": {},
   "outputs": [
    {
     "name": "stdout",
     "output_type": "stream",
     "text": [
      "The accuracy of the model = 0.809\n"
     ]
    }
   ],
   "source": [
    "score = lstm_model.evaluate(x_test, y_test, verbose=0)\n",
    "\n",
    "print(f'The accuracy of the model = {round(score[1], 3)}')"
   ]
  },
  {
   "cell_type": "code",
   "execution_count": 23,
   "id": "7e56fe9c",
   "metadata": {},
   "outputs": [
    {
     "data": {
      "image/png": "[encoded data removed]",
      "text/plain": [
       "<Figure size 432x288 with 1 Axes>"
      ]
     },
     "metadata": {
      "needs_background": "light"
     },
     "output_type": "display_data"
    }
   ],
   "source": [
    "plot_hisory(history.history)"
   ]
  },
  {
   "cell_type": "markdown",
   "id": "4a4e9c26",
   "metadata": {},
   "source": [
    "# Building CNN model"
   ]
  },
  {
   "cell_type": "code",
   "execution_count": 24,
   "id": "53e73dbf",
   "metadata": {},
   "outputs": [],
   "source": [
    "cnn_model = Sequential([\n",
    "    layers.Embedding(NUMBER_OF_WORDS_TO_TOKENIZE, 8, input_length=MAX_POST_LEN_IN_WORDS),\n",
    "    layers.Conv1D(250, 4, activation='relu', padding='same'),\n",
    "    layers.GlobalMaxPool1D(),\n",
    "    layers.Dense(128, activation='relu'),\n",
    "    layers.Dense(4, activation='softmax')\n",
    "])"
   ]
  },
  {
   "cell_type": "code",
   "execution_count": 25,
   "id": "728efb59",
   "metadata": {},
   "outputs": [],
   "source": [
    "cnn_model.compile('adam', loss='categorical_crossentropy', metrics=['accuracy'])"
   ]
  },
  {
   "cell_type": "code",
   "execution_count": 26,
   "id": "906fdd6a",
   "metadata": {},
   "outputs": [
    {
     "name": "stdout",
     "output_type": "stream",
     "text": [
      "Epoch 1/15\n",
      "25/25 [==============================] - 2s 54ms/step - loss: 1.3719 - accuracy: 0.3305 - val_loss: 1.3308 - val_accuracy: 0.3636\n",
      "\n",
      "Epoch 00001: val_accuracy improved from -inf to 0.36364, saving model to ./trained-models/cnn-news-type-prediction.h5\n",
      "Epoch 2/15\n",
      "25/25 [==============================] - 1s 41ms/step - loss: 1.3336 - accuracy: 0.3454 - val_loss: 1.3057 - val_accuracy: 0.3636\n",
      "\n",
      "Epoch 00002: val_accuracy did not improve from 0.36364\n",
      "Epoch 3/15\n",
      "25/25 [==============================] - 2s 69ms/step - loss: 1.2659 - accuracy: 0.3669 - val_loss: 1.2397 - val_accuracy: 0.3864\n",
      "\n",
      "Epoch 00003: val_accuracy improved from 0.36364 to 0.38636, saving model to ./trained-models/cnn-news-type-prediction.h5\n",
      "Epoch 4/15\n",
      "25/25 [==============================] - 2s 80ms/step - loss: 1.1232 - accuracy: 0.4535 - val_loss: 1.1326 - val_accuracy: 0.5568\n",
      "\n",
      "Epoch 00004: val_accuracy improved from 0.38636 to 0.55682, saving model to ./trained-models/cnn-news-type-prediction.h5\n",
      "Epoch 5/15\n",
      "25/25 [==============================] - 1s 56ms/step - loss: 0.8324 - accuracy: 0.7313 - val_loss: 0.9485 - val_accuracy: 0.6477\n",
      "\n",
      "Epoch 00005: val_accuracy improved from 0.55682 to 0.64773, saving model to ./trained-models/cnn-news-type-prediction.h5\n",
      "Epoch 6/15\n",
      "25/25 [==============================] - 1s 47ms/step - loss: 0.4676 - accuracy: 0.8367 - val_loss: 0.9034 - val_accuracy: 0.6818\n",
      "\n",
      "Epoch 00006: val_accuracy improved from 0.64773 to 0.68182, saving model to ./trained-models/cnn-news-type-prediction.h5\n",
      "Epoch 7/15\n",
      "25/25 [==============================] - 1s 55ms/step - loss: 0.2218 - accuracy: 0.9591 - val_loss: 0.9597 - val_accuracy: 0.6477\n",
      "\n",
      "Epoch 00007: val_accuracy did not improve from 0.68182\n",
      "Epoch 8/15\n",
      "25/25 [==============================] - 1s 42ms/step - loss: 0.0954 - accuracy: 0.9839 - val_loss: 1.1685 - val_accuracy: 0.6477\n",
      "\n",
      "Epoch 00008: val_accuracy did not improve from 0.68182\n",
      "Epoch 9/15\n",
      "25/25 [==============================] - 1s 59ms/step - loss: 0.0449 - accuracy: 0.9976 - val_loss: 1.1227 - val_accuracy: 0.6932\n",
      "\n",
      "Epoch 00009: val_accuracy improved from 0.68182 to 0.69318, saving model to ./trained-models/cnn-news-type-prediction.h5\n",
      "Epoch 10/15\n",
      "25/25 [==============================] - 2s 67ms/step - loss: 0.0310 - accuracy: 0.9930 - val_loss: 1.2404 - val_accuracy: 0.6705\n",
      "\n",
      "Epoch 00010: val_accuracy did not improve from 0.69318\n",
      "Epoch 11/15\n",
      "25/25 [==============================] - 2s 68ms/step - loss: 0.0125 - accuracy: 0.9988 - val_loss: 1.2586 - val_accuracy: 0.6705\n",
      "\n",
      "Epoch 00011: val_accuracy did not improve from 0.69318\n",
      "Epoch 12/15\n",
      "25/25 [==============================] - 1s 56ms/step - loss: 0.0187 - accuracy: 0.9941 - val_loss: 1.2805 - val_accuracy: 0.6705\n",
      "\n",
      "Epoch 00012: val_accuracy did not improve from 0.69318\n",
      "Epoch 13/15\n",
      "25/25 [==============================] - 1s 52ms/step - loss: 0.0133 - accuracy: 0.9950 - val_loss: 1.3222 - val_accuracy: 0.6591\n",
      "\n",
      "Epoch 00013: val_accuracy did not improve from 0.69318\n",
      "Epoch 14/15\n",
      "25/25 [==============================] - 2s 60ms/step - loss: 0.0066 - accuracy: 0.9980 - val_loss: 1.3153 - val_accuracy: 0.6818\n",
      "\n",
      "Epoch 00014: val_accuracy did not improve from 0.69318\n",
      "Epoch 15/15\n",
      "25/25 [==============================] - 1s 56ms/step - loss: 0.0063 - accuracy: 0.9993 - val_loss: 1.4048 - val_accuracy: 0.6705\n",
      "\n",
      "Epoch 00015: val_accuracy did not improve from 0.69318\n"
     ]
    }
   ],
   "source": [
    "save_callback = get_model_checkpoint_callback('./trained-models/cnn-news-type-prediction.h5')\n",
    "history = cnn_model.fit(\n",
    "    x=x_train,\n",
    "    y=y_train,\n",
    "    epochs=15,\n",
    "    batch_size=32,\n",
    "    validation_split=0.1,\n",
    "    callbacks=[save_callback]\n",
    ")"
   ]
  },
  {
   "cell_type": "code",
   "execution_count": 27,
   "id": "1c723ddb",
   "metadata": {},
   "outputs": [
    {
     "name": "stdout",
     "output_type": "stream",
     "text": [
      "The accuracy of the model = 0.75\n"
     ]
    }
   ],
   "source": [
    "score = cnn_model.evaluate(x_test, y_test, verbose=0)\n",
    "\n",
    "print(f'The accuracy of the model = {round(score[1], 3)}')"
   ]
  },
  {
   "cell_type": "code",
   "execution_count": 28,
   "id": "8d89be37",
   "metadata": {},
   "outputs": [
    {
     "data": {
      "image/png": "[encoded data removed]",
      "text/plain": [
       "<Figure size 432x288 with 1 Axes>"
      ]
     },
     "metadata": {
      "needs_background": "light"
     },
     "output_type": "display_data"
    }
   ],
   "source": [
    "plot_hisory(history.history)"
   ]
  }
 ],
 "metadata": {
  "kernelspec": {
   "display_name": "Python 3",
   "language": "python",
   "name": "python3"
  },
  "language_info": {
   "codemirror_mode": {
    "name": "ipython",
    "version": 3
   },
   "file_extension": ".py",
   "mimetype": "text/x-python",
   "name": "python",
   "nbconvert_exporter": "python",
   "pygments_lexer": "ipython3",
   "version": "3.8.8"
  }
 },
 "nbformat": 4,
 "nbformat_minor": 5
}

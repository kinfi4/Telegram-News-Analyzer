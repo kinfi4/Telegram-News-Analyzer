{
 "cells": [
  {
   "cell_type": "code",
   "execution_count": 1,
   "id": "72ea9933",
   "metadata": {},
   "outputs": [],
   "source": [
    "import sys\n",
    "import pickle\n",
    "\n",
    "import joblib\n",
    "import numpy as np\n",
    "from keras.models import load_model\n",
    "\n",
    "module_path = '/home/kinfi4/python/Propaganda-Analyzer/src/ETL'\n",
    "if module_path not in sys.path:\n",
    "    sys.path.append(module_path)\n",
    "\n",
    "from services.text_preprocessor import TextPreprocessor\n",
    "from config.config import MAX_POST_LEN_IN_WORDS"
   ]
  },
  {
   "cell_type": "markdown",
   "id": "5468c296",
   "metadata": {},
   "source": [
    "# Load models"
   ]
  },
  {
   "cell_type": "code",
   "execution_count": 2,
   "id": "6154d5e4",
   "metadata": {},
   "outputs": [],
   "source": [
    "vectorizer_loaded = pickle.load(open('./trained-models/vectorizer.pk', 'rb'))\n",
    "tokenizer = pickle.load(open('./trained-models/keras-tokenizer.pk', 'rb'))\n",
    "\n",
    "svc = joblib.load(open('./trained-models/svc-news-type-prediction.sav', 'rb'))\n",
    "knn = joblib.load(open('./trained-models/knn-news-type-prediction.sav', 'rb'))\n",
    "\n",
    "cnn_model = load_model('./trained-models/cnn-news-type-prediction.h5')\n",
    "lstm_model = load_model('./trained-models/lstm-news-type-prediction.h5')\n",
    "\n",
    "preprocessor = TextPreprocessor(\n",
    "    sklearn_vectorizer=vectorizer_loaded, \n",
    "    keras_tokenizer=tokenizer\n",
    ")"
   ]
  },
  {
   "cell_type": "code",
   "execution_count": 3,
   "id": "003e86e7",
   "metadata": {},
   "outputs": [],
   "source": [
    "def get_predicted_label(label_idx):\n",
    "    labels_indexes = {0: 'Economical', 1: 'Political', 2: 'Shelling', 3: 'Humanitarian'}\n",
    "    \n",
    "    return labels_indexes[label_idx]"
   ]
  },
  {
   "cell_type": "markdown",
   "id": "725b1869",
   "metadata": {},
   "source": [
    "# Predict using ML models"
   ]
  },
  {
   "cell_type": "code",
   "execution_count": 8,
   "id": "3554646a",
   "metadata": {},
   "outputs": [],
   "source": [
    "test_texts = [\n",
    "    'Российские банки отключили от swift',\n",
    "    'оккупанты обстреляли школу',\n",
    "    'макдональдс уходит с рынка России',\n",
    "    'Финляндия вступает в НАТО',\n",
    "    'Путин сказал, что победит в этой войне',\n",
    "    'Солдат с азовстали эвакуировали',\n",
    "    'Солдат с азовстали спасли',\n",
    "    'США заморозили резервы центробанка России',\n",
    "    'Цель операции россии украине заключается не разделе страны части обеспечении гарантий собственной безопасности заявил песков интервью'\n",
    "]\n",
    "\n",
    "test_vectors = preprocessor.sklearn_vectorize_text(test_texts, make_preprocessing=True)"
   ]
  },
  {
   "cell_type": "code",
   "execution_count": 9,
   "id": "104122e0",
   "metadata": {},
   "outputs": [
    {
     "name": "stdout",
     "output_type": "stream",
     "text": [
      "Economical -- Российские банки отключили от swift\n",
      "Shelling -- оккупанты обстреляли школу\n",
      "Economical -- макдональдс уходит с рынка России\n",
      "Political -- Финляндия вступает в НАТО\n",
      "Political -- Путин сказал, что победит в этой войне\n",
      "Humanitarian -- Солдат с азовстали эвакуировали\n",
      "Humanitarian -- Солдат с азовстали спасли\n",
      "Economical -- США заморозили резервы центробанка России\n",
      "Political -- Цель операции россии украине заключается не разделе страны части обеспечении гарантий собственной безопасности заявил песков интервью\n"
     ]
    }
   ],
   "source": [
    "preicted_indexes_svc = svc.predict(test_vectors)\n",
    "preicted_indexes_knn = knn.predict(test_vectors)\n",
    "\n",
    "for idx_svc, idx_knn, text in zip(preicted_indexes_svc, preicted_indexes_knn, test_texts):\n",
    "    svc_label = get_predicted_label(idx_svc)\n",
    "    knn_label = get_predicted_label(idx_knn)\n",
    "    \n",
    "    if svc_label == knn_label:\n",
    "        predicted_label = svc_label\n",
    "    else:\n",
    "        predicted_label = f'SVC={svc_label} | KNN={knn_label}'\n",
    "    \n",
    "    print(f'{predicted_label} -- {text}')"
   ]
  },
  {
   "cell_type": "markdown",
   "id": "f2f2d33e",
   "metadata": {},
   "source": [
    "# Predict using NN models"
   ]
  },
  {
   "cell_type": "code",
   "execution_count": 10,
   "id": "65ba9604",
   "metadata": {},
   "outputs": [],
   "source": [
    "text_sequences = preprocessor.keras_tokenize_and_pad_text(\n",
    "    test_texts,\n",
    "    make_preprocessing=True,\n",
    "    max_words_number=MAX_POST_LEN_IN_WORDS,\n",
    "    padding='pre',\n",
    "    truncating='post',\n",
    ")"
   ]
  },
  {
   "cell_type": "code",
   "execution_count": 11,
   "id": "3dd01ee9",
   "metadata": {},
   "outputs": [
    {
     "name": "stdout",
     "output_type": "stream",
     "text": [
      "------------------------------\n",
      "Российские банки отключили от swift\n",
      "Economical\n",
      "------------------------------\n",
      "------------------------------\n",
      "оккупанты обстреляли школу\n",
      "Shelling\n",
      "------------------------------\n",
      "------------------------------\n",
      "макдональдс уходит с рынка России\n",
      "Economical\n",
      "------------------------------\n",
      "------------------------------\n",
      "Финляндия вступает в НАТО\n",
      "Political\n",
      "------------------------------\n",
      "------------------------------\n",
      "Путин сказал, что победит в этой войне\n",
      "Political\n",
      "------------------------------\n",
      "------------------------------\n",
      "Солдат с азовстали эвакуировали\n",
      "CNN=Shelling | LSTM=Humanitarian\n",
      "------------------------------\n",
      "------------------------------\n",
      "Солдат с азовстали спасли\n",
      "CNN=Shelling | LSTM=Political\n",
      "------------------------------\n",
      "------------------------------\n",
      "США заморозили резервы центробанка России\n",
      "Economical\n",
      "------------------------------\n",
      "------------------------------\n",
      "Цель операции россии украине заключается не разделе страны части обеспечении гарантий собственной безопасности заявил песков интервью\n",
      "Political\n",
      "------------------------------\n"
     ]
    }
   ],
   "source": [
    "predicted_indexes_cnn = cnn_model.predict(text_sequences)\n",
    "predicted_indexes_lstm = lstm_model.predict(text_sequences)\n",
    "\n",
    "for cnn_result_vector, lstm_result_vector, text in zip(\n",
    "    predicted_indexes_cnn,\n",
    "    predicted_indexes_lstm,\n",
    "    test_texts\n",
    "):\n",
    "    cnn_label = get_predicted_label(cnn_result_vector.argmax())\n",
    "    lstm_label = get_predicted_label(lstm_result_vector.argmax())\n",
    "    \n",
    "    if cnn_label == lstm_label:\n",
    "        predicted_label = cnn_label\n",
    "    else:\n",
    "        cnn_prediction = f''\n",
    "        predicted_label = f'CNN={cnn_label} | LSTM={lstm_label}'\n",
    "    \n",
    "    print('-' * 30)\n",
    "    print(f'{text}')\n",
    "    print(f'{predicted_label}')\n",
    "    print('-' * 30)"
   ]
  }
 ],
 "metadata": {
  "kernelspec": {
   "display_name": "Python 3",
   "language": "python",
   "name": "python3"
  },
  "language_info": {
   "codemirror_mode": {
    "name": "ipython",
    "version": 3
   },
   "file_extension": ".py",
   "mimetype": "text/x-python",
   "name": "python",
   "nbconvert_exporter": "python",
   "pygments_lexer": "ipython3",
   "version": "3.8.8"
  }
 },
 "nbformat": 4,
 "nbformat_minor": 5
}

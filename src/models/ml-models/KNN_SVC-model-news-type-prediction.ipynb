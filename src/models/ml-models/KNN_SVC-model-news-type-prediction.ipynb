{
 "cells": [
  {
   "cell_type": "code",
   "execution_count": 15,
   "id": "ba9393bc",
   "metadata": {},
   "outputs": [],
   "source": [
    "import pickle\n",
    "import sys\n",
    "\n",
    "import joblib\n",
    "import pandas as pd\n",
    "from sklearn.model_selection import cross_validate, cross_val_predict, train_test_split, KFold\n",
    "from sklearn.svm import SVC\n",
    "from sklearn.neighbors import KNeighborsClassifier\n",
    "from sklearn.feature_extraction.text import TfidfVectorizer\n",
    "\n",
    "module_path = '/home/kinfi4/python/Propaganda-Analyzer/src/ETL'\n",
    "if module_path not in sys.path:\n",
    "    sys.path.append(module_path)\n",
    "\n",
    "from services.text_preprocessor import TextPreprocessor"
   ]
  },
  {
   "cell_type": "markdown",
   "id": "210805dc",
   "metadata": {},
   "source": [
    "## Data preprocessing"
   ]
  },
  {
   "cell_type": "code",
   "execution_count": 16,
   "id": "6117bcf8",
   "metadata": {},
   "outputs": [
    {
     "data": {
      "text/html": [
       "<div>\n",
       "<style scoped>\n",
       "    .dataframe tbody tr th:only-of-type {\n",
       "        vertical-align: middle;\n",
       "    }\n",
       "\n",
       "    .dataframe tbody tr th {\n",
       "        vertical-align: top;\n",
       "    }\n",
       "\n",
       "    .dataframe thead th {\n",
       "        text-align: right;\n",
       "    }\n",
       "</style>\n",
       "<table border=\"1\" class=\"dataframe\">\n",
       "  <thead>\n",
       "    <tr style=\"text-align: right;\">\n",
       "      <th></th>\n",
       "      <th>channel</th>\n",
       "      <th>text</th>\n",
       "      <th>date</th>\n",
       "      <th>type</th>\n",
       "      <th>sent</th>\n",
       "    </tr>\n",
       "  </thead>\n",
       "  <tbody>\n",
       "    <tr>\n",
       "      <th>0</th>\n",
       "      <td>раньше всех. ну почти.</td>\n",
       "      <td>президент эстонии алар карис признал удастся п...</td>\n",
       "      <td>2022-05-17 18:20:01</td>\n",
       "      <td>economic</td>\n",
       "      <td>-1</td>\n",
       "    </tr>\n",
       "    <tr>\n",
       "      <th>1</th>\n",
       "      <td>раньше всех. ну почти.</td>\n",
       "      <td>россияне 24 февраля стали тратить раза новости...</td>\n",
       "      <td>2022-05-17 18:11:38</td>\n",
       "      <td>political</td>\n",
       "      <td>-1</td>\n",
       "    </tr>\n",
       "    <tr>\n",
       "      <th>2</th>\n",
       "      <td>раньше всех. ну почти.</td>\n",
       "      <td>суд приговорил эксполковника захарченко совоку...</td>\n",
       "      <td>2022-05-17 17:53:12</td>\n",
       "      <td>shelling</td>\n",
       "      <td>-1</td>\n",
       "    </tr>\n",
       "    <tr>\n",
       "      <th>3</th>\n",
       "      <td>раньше всех. ну почти.</td>\n",
       "      <td>евросоюз допустит украине закончилось оружие в...</td>\n",
       "      <td>2022-05-17 17:44:46</td>\n",
       "      <td>political</td>\n",
       "      <td>-1</td>\n",
       "    </tr>\n",
       "    <tr>\n",
       "      <th>4</th>\n",
       "      <td>раньше всех. ну почти.</td>\n",
       "      <td>сша активно привлекают участия боевых действия...</td>\n",
       "      <td>2022-05-17 17:43:05</td>\n",
       "      <td>political</td>\n",
       "      <td>-1</td>\n",
       "    </tr>\n",
       "  </tbody>\n",
       "</table>\n",
       "</div>"
      ],
      "text/plain": [
       "                  channel                                               text  \\\n",
       "0  раньше всех. ну почти.  президент эстонии алар карис признал удастся п...   \n",
       "1  раньше всех. ну почти.  россияне 24 февраля стали тратить раза новости...   \n",
       "2  раньше всех. ну почти.  суд приговорил эксполковника захарченко совоку...   \n",
       "3  раньше всех. ну почти.  евросоюз допустит украине закончилось оружие в...   \n",
       "4  раньше всех. ну почти.  сша активно привлекают участия боевых действия...   \n",
       "\n",
       "                  date       type  sent  \n",
       "0  2022-05-17 18:20:01   economic    -1  \n",
       "1  2022-05-17 18:11:38  political    -1  \n",
       "2  2022-05-17 17:53:12   shelling    -1  \n",
       "3  2022-05-17 17:44:46  political    -1  \n",
       "4  2022-05-17 17:43:05  political    -1  "
      ]
     },
     "execution_count": 16,
     "metadata": {},
     "output_type": "execute_result"
    }
   ],
   "source": [
    "df = pd.read_csv(\n",
    "    '../../data/training-data/news-for-training.csv', \n",
    "    names=['channel', 'text', 'date', 'type', 'sent']\n",
    ")\n",
    "df.head()"
   ]
  },
  {
   "cell_type": "code",
   "execution_count": 17,
   "id": "001f938a",
   "metadata": {},
   "outputs": [
    {
     "data": {
      "text/plain": [
       "political       235\n",
       "shelling        208\n",
       "economic        197\n",
       "humanitarian    123\n",
       "Name: type, dtype: int64"
      ]
     },
     "execution_count": 17,
     "metadata": {},
     "output_type": "execute_result"
    }
   ],
   "source": [
    "df['type'].value_counts()"
   ]
  },
  {
   "cell_type": "code",
   "execution_count": 18,
   "id": "d5d22080",
   "metadata": {},
   "outputs": [],
   "source": [
    "preprocessor = TextPreprocessor()\n",
    "df['text'] = df['text'].apply(preprocessor.preprocess_and_lemmatize)"
   ]
  },
  {
   "cell_type": "code",
   "execution_count": 19,
   "id": "f96727ac",
   "metadata": {},
   "outputs": [],
   "source": [
    "vectorizer = TfidfVectorizer()\n",
    "train_vectors = vectorizer.fit_transform(df['text'])"
   ]
  },
  {
   "cell_type": "code",
   "execution_count": 20,
   "id": "94ccd0d1",
   "metadata": {},
   "outputs": [],
   "source": [
    "pickle.dump(vectorizer, open('../trained-models/vectorizer.pk', 'wb'))"
   ]
  },
  {
   "cell_type": "code",
   "execution_count": 21,
   "id": "fc73c764",
   "metadata": {},
   "outputs": [
    {
     "data": {
      "text/plain": [
       "Index(['economic', 'political', 'shelling', 'humanitarian'], dtype='object')"
      ]
     },
     "execution_count": 21,
     "metadata": {},
     "output_type": "execute_result"
    }
   ],
   "source": [
    "types = pd.factorize(df['type'])\n",
    "types[1]"
   ]
  },
  {
   "cell_type": "code",
   "execution_count": 22,
   "id": "a3ca0fd3",
   "metadata": {},
   "outputs": [],
   "source": [
    "df['type'] = types[0]"
   ]
  },
  {
   "cell_type": "code",
   "execution_count": 23,
   "id": "edf1f7bb",
   "metadata": {},
   "outputs": [],
   "source": [
    "kfold = KFold(n_splits=5, shuffle=True)"
   ]
  },
  {
   "cell_type": "markdown",
   "id": "ab0cfffb",
   "metadata": {},
   "source": [
    "## SVC Model"
   ]
  },
  {
   "cell_type": "code",
   "execution_count": 24,
   "id": "6c192e53",
   "metadata": {},
   "outputs": [
    {
     "name": "stdout",
     "output_type": "stream",
     "text": [
      "The mean test score is: 0.8086429308565531\n"
     ]
    }
   ],
   "source": [
    "svc = SVC(kernel='linear')\n",
    "# svc = SVC(kernel='rbf')\n",
    "\n",
    "results = cross_validate(svc, X=train_vectors, y=df['type'], cv=kfold, return_estimator=True)\n",
    "\n",
    "print(f'The mean test score is: {results[\"test_score\"].mean()}')"
   ]
  },
  {
   "cell_type": "code",
   "execution_count": 25,
   "id": "1c360129",
   "metadata": {},
   "outputs": [],
   "source": [
    "svc = results['estimator'][results['test_score'].argmax()]"
   ]
  },
  {
   "cell_type": "code",
   "execution_count": 26,
   "id": "42140dc4",
   "metadata": {},
   "outputs": [
    {
     "data": {
      "text/plain": [
       "['../trained-models/svc-news-type-prediction.sav']"
      ]
     },
     "execution_count": 26,
     "metadata": {},
     "output_type": "execute_result"
    }
   ],
   "source": [
    "joblib.dump(svc, '../trained-models/svc-news-type-prediction.sav')"
   ]
  },
  {
   "cell_type": "markdown",
   "id": "2bd5924e",
   "metadata": {},
   "source": [
    "## KNN Model"
   ]
  },
  {
   "cell_type": "code",
   "execution_count": 27,
   "id": "9cbe4b52",
   "metadata": {},
   "outputs": [
    {
     "name": "stdout",
     "output_type": "stream",
     "text": [
      "KNN model with k=2 has score: 0.734\n",
      "KNN model with k=3 has score: 0.7431\n",
      "KNN model with k=4 has score: 0.7418\n",
      "KNN model with k=5 has score: 0.7654\n",
      "KNN model with k=6 has score: 0.7471\n",
      "KNN model with k=7 has score: 0.751\n",
      "KNN model with k=8 has score: 0.7353\n",
      "KNN model with k=9 has score: 0.7523\n",
      "------------------------------\n",
      "The best KNN model was trained with k=5 with score: 0.7654\n"
     ]
    }
   ],
   "source": [
    "best_knn_model = None\n",
    "best_knn_score, best_knn_k = 0, 0\n",
    "\n",
    "for k in range(2, 10):\n",
    "    knn_model = KNeighborsClassifier(n_neighbors=k)\n",
    "    \n",
    "    results = cross_validate(\n",
    "        knn_model,\n",
    "        X=train_vectors,\n",
    "        y=df['type'], \n",
    "        cv=kfold, \n",
    "        return_estimator=True\n",
    "    )\n",
    "    \n",
    "    mean_score = round(results['test_score'].mean(), 4)\n",
    "    \n",
    "    print(f'KNN model with {k=} has score: {mean_score}')\n",
    "    \n",
    "    if mean_score > best_knn_score:\n",
    "        best_knn_score = mean_score\n",
    "        best_knn_k = k\n",
    "        best_knn_model = results['estimator'][results['test_score'].argmax()]\n",
    "        \n",
    "print('-' * 30)\n",
    "print(f'The best KNN model was trained with k={best_knn_k} with score: {best_knn_score}')"
   ]
  },
  {
   "cell_type": "code",
   "execution_count": 29,
   "id": "6365e759",
   "metadata": {},
   "outputs": [],
   "source": [
    "joblib.dump(best_knn_model, open('../trained-models/knn-news-type-prediction.sav', 'wb'))"
   ]
  }
 ],
 "metadata": {
  "kernelspec": {
   "display_name": "Python 3",
   "language": "python",
   "name": "python3"
  },
  "language_info": {
   "codemirror_mode": {
    "name": "ipython",
    "version": 3
   },
   "file_extension": ".py",
   "mimetype": "text/x-python",
   "name": "python",
   "nbconvert_exporter": "python",
   "pygments_lexer": "ipython3",
   "version": "3.8.8"
  }
 },
 "nbformat": 4,
 "nbformat_minor": 5
}

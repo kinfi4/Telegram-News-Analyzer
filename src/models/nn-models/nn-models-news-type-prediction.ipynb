{
 "cells": [
  {
   "cell_type": "code",
   "execution_count": 1,
   "id": "b5c8d377",
   "metadata": {},
   "outputs": [],
   "source": [
    "import sys\n",
    "import pickle\n",
    "\n",
    "import pandas as pd\n",
    "import numpy as np\n",
    "import matplotlib.pyplot as plt\n",
    "from keras.models import Sequential\n",
    "from keras.preprocessing.text import Tokenizer\n",
    "from keras.preprocessing.sequence import pad_sequences\n",
    "from keras import layers\n",
    "from keras.utils import to_categorical\n",
    "from keras.callbacks import ModelCheckpoint\n",
    "from sklearn.model_selection import train_test_split\n",
    "\n",
    "module_path = '/home/kinfi4/python/Propaganda-Analyzer/src/ETL'\n",
    "if module_path not in sys.path:\n",
    "    sys.path.append(module_path)\n",
    "\n",
    "from services.text_preprocessor import TextPreprocessor\n",
    "from config.config import MAX_POST_LEN_IN_WORDS"
   ]
  },
  {
   "cell_type": "code",
   "execution_count": 2,
   "id": "a5d6fb1d",
   "metadata": {},
   "outputs": [],
   "source": [
    "NUMBER_OF_WORDS_TO_TOKENIZE = 10_000"
   ]
  },
  {
   "cell_type": "code",
   "execution_count": 3,
   "id": "326987b0",
   "metadata": {},
   "outputs": [],
   "source": [
    "def plot_hisory(history_dict: dict):\n",
    "    plt.plot(history_dict['accuracy'])\n",
    "    plt.plot(history_dict['val_accuracy'])\n",
    "    plt.title('model accuracy')\n",
    "    plt.ylabel('accuracy')\n",
    "    plt.xlabel('epoch')\n",
    "    plt.legend(['train', 'test'], loc='upper left')\n",
    "    plt.show()"
   ]
  },
  {
   "cell_type": "code",
   "execution_count": 4,
   "id": "78dce461",
   "metadata": {},
   "outputs": [],
   "source": [
    "def get_model_checkpoint_callback(filepath):\n",
    "    return ModelCheckpoint(\n",
    "        filepath,\n",
    "        save_best_only=True,\n",
    "        monitor='val_accuracy',\n",
    "        verbose=1\n",
    "    )"
   ]
  },
  {
   "cell_type": "code",
   "execution_count": 24,
   "id": "1528d9de",
   "metadata": {},
   "outputs": [],
   "source": [
    "preprocessor = TextPreprocessor()\n",
    "\n",
    "df = pd.read_csv(\n",
    "    '../../data/training-data/news-for-training.csv',\n",
    "    names=['channel', 'text', 'date', 'type', 'sent']\n",
    ")\n",
    "\n",
    "df['text'] = df['text'].apply(preprocessor.preprocess_and_lemmatize)"
   ]
  },
  {
   "cell_type": "code",
   "execution_count": 25,
   "id": "86c8593a",
   "metadata": {},
   "outputs": [
    {
     "data": {
      "text/html": [
       "<div>\n",
       "<style scoped>\n",
       "    .dataframe tbody tr th:only-of-type {\n",
       "        vertical-align: middle;\n",
       "    }\n",
       "\n",
       "    .dataframe tbody tr th {\n",
       "        vertical-align: top;\n",
       "    }\n",
       "\n",
       "    .dataframe thead th {\n",
       "        text-align: right;\n",
       "    }\n",
       "</style>\n",
       "<table border=\"1\" class=\"dataframe\">\n",
       "  <thead>\n",
       "    <tr style=\"text-align: right;\">\n",
       "      <th></th>\n",
       "      <th>channel</th>\n",
       "      <th>text</th>\n",
       "      <th>date</th>\n",
       "      <th>type</th>\n",
       "      <th>sent</th>\n",
       "    </tr>\n",
       "  </thead>\n",
       "  <tbody>\n",
       "    <tr>\n",
       "      <th>0</th>\n",
       "      <td>раньше всех. ну почти.</td>\n",
       "      <td>президент эстония алар карис признать удаться ...</td>\n",
       "      <td>2022-05-17 18:20:01</td>\n",
       "      <td>economic</td>\n",
       "      <td>-1</td>\n",
       "    </tr>\n",
       "    <tr>\n",
       "      <th>1</th>\n",
       "      <td>раньше всех. ну почти.</td>\n",
       "      <td>россиянин 24 февраль стать тратить раз новость...</td>\n",
       "      <td>2022-05-17 18:11:38</td>\n",
       "      <td>political</td>\n",
       "      <td>-1</td>\n",
       "    </tr>\n",
       "    <tr>\n",
       "      <th>2</th>\n",
       "      <td>раньше всех. ну почти.</td>\n",
       "      <td>суд приговорить эксполковник захарченко совоку...</td>\n",
       "      <td>2022-05-17 17:53:12</td>\n",
       "      <td>shelling</td>\n",
       "      <td>-1</td>\n",
       "    </tr>\n",
       "    <tr>\n",
       "      <th>3</th>\n",
       "      <td>раньше всех. ну почти.</td>\n",
       "      <td>евросоюз допустить украина закончиться оружие ...</td>\n",
       "      <td>2022-05-17 17:44:46</td>\n",
       "      <td>political</td>\n",
       "      <td>-1</td>\n",
       "    </tr>\n",
       "    <tr>\n",
       "      <th>4</th>\n",
       "      <td>раньше всех. ну почти.</td>\n",
       "      <td>сша активно привлекать участие боевой действие...</td>\n",
       "      <td>2022-05-17 17:43:05</td>\n",
       "      <td>political</td>\n",
       "      <td>-1</td>\n",
       "    </tr>\n",
       "  </tbody>\n",
       "</table>\n",
       "</div>"
      ],
      "text/plain": [
       "                  channel                                               text  \\\n",
       "0  раньше всех. ну почти.  президент эстония алар карис признать удаться ...   \n",
       "1  раньше всех. ну почти.  россиянин 24 февраль стать тратить раз новость...   \n",
       "2  раньше всех. ну почти.  суд приговорить эксполковник захарченко совоку...   \n",
       "3  раньше всех. ну почти.  евросоюз допустить украина закончиться оружие ...   \n",
       "4  раньше всех. ну почти.  сша активно привлекать участие боевой действие...   \n",
       "\n",
       "                  date       type  sent  \n",
       "0  2022-05-17 18:20:01   economic    -1  \n",
       "1  2022-05-17 18:11:38  political    -1  \n",
       "2  2022-05-17 17:53:12   shelling    -1  \n",
       "3  2022-05-17 17:44:46  political    -1  \n",
       "4  2022-05-17 17:43:05  political    -1  "
      ]
     },
     "execution_count": 25,
     "metadata": {},
     "output_type": "execute_result"
    }
   ],
   "source": [
    "df.head()"
   ]
  },
  {
   "cell_type": "code",
   "execution_count": 26,
   "id": "50b623f8",
   "metadata": {},
   "outputs": [
    {
     "data": {
      "text/plain": [
       "political       361\n",
       "shelling        273\n",
       "economic        235\n",
       "humanitarian    174\n",
       "Name: type, dtype: int64"
      ]
     },
     "execution_count": 26,
     "metadata": {},
     "output_type": "execute_result"
    }
   ],
   "source": [
    "df['type'].value_counts()"
   ]
  },
  {
   "cell_type": "code",
   "execution_count": 7,
   "id": "6970483a",
   "metadata": {},
   "outputs": [],
   "source": [
    "tokenizer = Tokenizer(num_words=NUMBER_OF_WORDS_TO_TOKENIZE)\n",
    "tokenizer.fit_on_texts(df['text'])\n",
    "\n",
    "preprocessor = TextPreprocessor(keras_tokenizer=tokenizer)"
   ]
  },
  {
   "cell_type": "code",
   "execution_count": 8,
   "id": "6896c12e",
   "metadata": {},
   "outputs": [],
   "source": [
    "pickle.dump(tokenizer, open('../trained-models/keras-tokenizer.pk', 'wb'))"
   ]
  },
  {
   "cell_type": "code",
   "execution_count": 9,
   "id": "d0d75b79",
   "metadata": {},
   "outputs": [],
   "source": [
    "text_sequences = preprocessor.keras_tokenize_and_pad_text(\n",
    "    df['text'],\n",
    "    make_preprocessing=True,\n",
    "    max_words_number=MAX_POST_LEN_IN_WORDS,\n",
    "    padding='pre',\n",
    "    truncating='post',\n",
    ")"
   ]
  },
  {
   "cell_type": "code",
   "execution_count": 10,
   "id": "9ea3365b",
   "metadata": {},
   "outputs": [],
   "source": [
    "df['type'] = pd.factorize(df['type'])[0]"
   ]
  },
  {
   "cell_type": "code",
   "execution_count": 11,
   "id": "87045ee7",
   "metadata": {},
   "outputs": [],
   "source": [
    "categorical_types = to_categorical(df['type'])"
   ]
  },
  {
   "cell_type": "code",
   "execution_count": 12,
   "id": "63d4754e",
   "metadata": {},
   "outputs": [],
   "source": [
    "x_train, x_test, y_train, y_test = train_test_split(\n",
    "    text_sequences,\n",
    "    categorical_types,\n",
    "    test_size=0.2\n",
    ")"
   ]
  },
  {
   "cell_type": "markdown",
   "id": "aab39283",
   "metadata": {},
   "source": [
    "# Building a LSTM model"
   ]
  },
  {
   "cell_type": "code",
   "execution_count": 13,
   "id": "e44b5029",
   "metadata": {},
   "outputs": [],
   "source": [
    "lstm_model = Sequential([\n",
    "    layers.Embedding(NUMBER_OF_WORDS_TO_TOKENIZE, 16, input_length=MAX_POST_LEN_IN_WORDS),\n",
    "    layers.LSTM(32, recurrent_dropout=0.2),\n",
    "    layers.Dense(4, activation='softmax')\n",
    "])"
   ]
  },
  {
   "cell_type": "code",
   "execution_count": 14,
   "id": "69ce6ee9",
   "metadata": {},
   "outputs": [],
   "source": [
    "lstm_model.compile('adam', loss='categorical_crossentropy', metrics=['accuracy'])"
   ]
  },
  {
   "cell_type": "code",
   "execution_count": 15,
   "id": "b9a6ec05",
   "metadata": {},
   "outputs": [
    {
     "name": "stdout",
     "output_type": "stream",
     "text": [
      "Epoch 1/15\n",
      "24/24 [==============================] - 6s 107ms/step - loss: 1.3793 - accuracy: 0.3541 - val_loss: 1.3865 - val_accuracy: 0.2143\n",
      "\n",
      "Epoch 00001: val_accuracy improved from -inf to 0.21429, saving model to ../trained-models/lstm-news-type-prediction.h5\n",
      "Epoch 2/15\n",
      "24/24 [==============================] - 2s 85ms/step - loss: 1.3264 - accuracy: 0.3790 - val_loss: 1.3884 - val_accuracy: 0.2143\n",
      "\n",
      "Epoch 00002: val_accuracy did not improve from 0.21429\n",
      "Epoch 3/15\n",
      "24/24 [==============================] - 2s 76ms/step - loss: 1.2097 - accuracy: 0.4236 - val_loss: 1.3479 - val_accuracy: 0.3690\n",
      "\n",
      "Epoch 00003: val_accuracy improved from 0.21429 to 0.36905, saving model to ../trained-models/lstm-news-type-prediction.h5\n",
      "Epoch 4/15\n",
      "24/24 [==============================] - 2s 97ms/step - loss: 1.0112 - accuracy: 0.5752 - val_loss: 1.1909 - val_accuracy: 0.4524\n",
      "\n",
      "Epoch 00004: val_accuracy improved from 0.36905 to 0.45238, saving model to ../trained-models/lstm-news-type-prediction.h5\n",
      "Epoch 5/15\n",
      "24/24 [==============================] - 3s 110ms/step - loss: 0.8169 - accuracy: 0.6052 - val_loss: 1.1382 - val_accuracy: 0.4643\n",
      "\n",
      "Epoch 00005: val_accuracy improved from 0.45238 to 0.46429, saving model to ../trained-models/lstm-news-type-prediction.h5\n",
      "Epoch 6/15\n",
      "24/24 [==============================] - 3s 112ms/step - loss: 0.6784 - accuracy: 0.6266 - val_loss: 1.1059 - val_accuracy: 0.5119\n",
      "\n",
      "Epoch 00006: val_accuracy improved from 0.46429 to 0.51190, saving model to ../trained-models/lstm-news-type-prediction.h5\n",
      "Epoch 7/15\n",
      "24/24 [==============================] - 2s 103ms/step - loss: 0.4975 - accuracy: 0.7336 - val_loss: 1.0397 - val_accuracy: 0.5833\n",
      "\n",
      "Epoch 00007: val_accuracy improved from 0.51190 to 0.58333, saving model to ../trained-models/lstm-news-type-prediction.h5\n",
      "Epoch 8/15\n",
      "24/24 [==============================] - 3s 105ms/step - loss: 0.3647 - accuracy: 0.8763 - val_loss: 1.1200 - val_accuracy: 0.6548\n",
      "\n",
      "Epoch 00008: val_accuracy improved from 0.58333 to 0.65476, saving model to ../trained-models/lstm-news-type-prediction.h5\n",
      "Epoch 9/15\n",
      "24/24 [==============================] - 3s 109ms/step - loss: 0.3287 - accuracy: 0.9220 - val_loss: 1.1758 - val_accuracy: 0.6190\n",
      "\n",
      "Epoch 00009: val_accuracy did not improve from 0.65476\n",
      "Epoch 10/15\n",
      "24/24 [==============================] - 3s 120ms/step - loss: 0.2693 - accuracy: 0.9351 - val_loss: 0.8869 - val_accuracy: 0.7381\n",
      "\n",
      "Epoch 00010: val_accuracy improved from 0.65476 to 0.73810, saving model to ../trained-models/lstm-news-type-prediction.h5\n",
      "Epoch 11/15\n",
      "24/24 [==============================] - 2s 101ms/step - loss: 0.1837 - accuracy: 0.9760 - val_loss: 0.8448 - val_accuracy: 0.7738\n",
      "\n",
      "Epoch 00011: val_accuracy improved from 0.73810 to 0.77381, saving model to ../trained-models/lstm-news-type-prediction.h5\n",
      "Epoch 12/15\n",
      "24/24 [==============================] - 3s 106ms/step - loss: 0.1505 - accuracy: 0.9854 - val_loss: 0.7494 - val_accuracy: 0.7857\n",
      "\n",
      "Epoch 00012: val_accuracy improved from 0.77381 to 0.78571, saving model to ../trained-models/lstm-news-type-prediction.h5\n",
      "Epoch 13/15\n",
      "24/24 [==============================] - 2s 97ms/step - loss: 0.1022 - accuracy: 0.9865 - val_loss: 0.8367 - val_accuracy: 0.7500\n",
      "\n",
      "Epoch 00013: val_accuracy did not improve from 0.78571\n",
      "Epoch 14/15\n",
      "24/24 [==============================] - 2s 104ms/step - loss: 0.0800 - accuracy: 0.9866 - val_loss: 0.7570 - val_accuracy: 0.8095\n",
      "\n",
      "Epoch 00014: val_accuracy improved from 0.78571 to 0.80952, saving model to ../trained-models/lstm-news-type-prediction.h5\n",
      "Epoch 15/15\n",
      "24/24 [==============================] - 2s 100ms/step - loss: 0.0753 - accuracy: 0.9880 - val_loss: 0.8198 - val_accuracy: 0.7976\n",
      "\n",
      "Epoch 00015: val_accuracy did not improve from 0.80952\n"
     ]
    }
   ],
   "source": [
    "save_callback = get_model_checkpoint_callback('../trained-models/lstm-news-type-prediction.h5')\n",
    "history = lstm_model.fit(\n",
    "    x=x_train,\n",
    "    y=y_train,\n",
    "    epochs=15,\n",
    "    batch_size=32,\n",
    "    validation_split=0.1,\n",
    "    callbacks=[save_callback]\n",
    ")"
   ]
  },
  {
   "cell_type": "code",
   "execution_count": 16,
   "id": "b0da03bf",
   "metadata": {},
   "outputs": [
    {
     "name": "stdout",
     "output_type": "stream",
     "text": [
      "The accuracy of the model = 0.766\n"
     ]
    }
   ],
   "source": [
    "score = lstm_model.evaluate(x_test, y_test, verbose=0)\n",
    "\n",
    "print(f'The accuracy of the model = {round(score[1], 3)}')"
   ]
  },
  {
   "cell_type": "code",
   "execution_count": 17,
   "id": "7e56fe9c",
   "metadata": {},
   "outputs": [
    {
     "data": {
      "image/png": "[encoded data removed]",
      "text/plain": [
       "<Figure size 432x288 with 1 Axes>"
      ]
     },
     "metadata": {
      "needs_background": "light"
     },
     "output_type": "display_data"
    }
   ],
   "source": [
    "plot_hisory(history.history)"
   ]
  },
  {
   "cell_type": "markdown",
   "id": "4a4e9c26",
   "metadata": {},
   "source": [
    "# Building CNN model"
   ]
  },
  {
   "cell_type": "code",
   "execution_count": 18,
   "id": "53e73dbf",
   "metadata": {},
   "outputs": [],
   "source": [
    "cnn_model = Sequential([\n",
    "    layers.Embedding(NUMBER_OF_WORDS_TO_TOKENIZE, 8, input_length=MAX_POST_LEN_IN_WORDS),\n",
    "    layers.Conv1D(250, 4, activation='relu', padding='same'),\n",
    "    layers.GlobalMaxPool1D(),\n",
    "    layers.Dense(128, activation='relu'),\n",
    "    layers.Dense(4, activation='softmax')\n",
    "])"
   ]
  },
  {
   "cell_type": "code",
   "execution_count": 19,
   "id": "728efb59",
   "metadata": {},
   "outputs": [],
   "source": [
    "cnn_model.compile('adam', loss='categorical_crossentropy', metrics=['accuracy'])"
   ]
  },
  {
   "cell_type": "code",
   "execution_count": 20,
   "id": "906fdd6a",
   "metadata": {},
   "outputs": [
    {
     "name": "stdout",
     "output_type": "stream",
     "text": [
      "Epoch 1/15\n",
      "24/24 [==============================] - 1s 29ms/step - loss: 1.3633 - accuracy: 0.3431 - val_loss: 1.4283 - val_accuracy: 0.2143\n",
      "\n",
      "Epoch 00001: val_accuracy improved from -inf to 0.21429, saving model to ../trained-models/cnn-news-type-prediction.h5\n",
      "Epoch 2/15\n",
      "24/24 [==============================] - 1s 23ms/step - loss: 1.3121 - accuracy: 0.3809 - val_loss: 1.4054 - val_accuracy: 0.2143\n",
      "\n",
      "Epoch 00002: val_accuracy did not improve from 0.21429\n",
      "Epoch 3/15\n",
      "24/24 [==============================] - 1s 24ms/step - loss: 1.2716 - accuracy: 0.3724 - val_loss: 1.3815 - val_accuracy: 0.2143\n",
      "\n",
      "Epoch 00003: val_accuracy did not improve from 0.21429\n",
      "Epoch 4/15\n",
      "24/24 [==============================] - 0s 20ms/step - loss: 1.1208 - accuracy: 0.4129 - val_loss: 1.2606 - val_accuracy: 0.4167\n",
      "\n",
      "Epoch 00004: val_accuracy improved from 0.21429 to 0.41667, saving model to ../trained-models/cnn-news-type-prediction.h5\n",
      "Epoch 5/15\n",
      "24/24 [==============================] - 1s 23ms/step - loss: 0.8548 - accuracy: 0.7000 - val_loss: 1.1097 - val_accuracy: 0.5238\n",
      "\n",
      "Epoch 00005: val_accuracy improved from 0.41667 to 0.52381, saving model to ../trained-models/cnn-news-type-prediction.h5\n",
      "Epoch 6/15\n",
      "24/24 [==============================] - 1s 24ms/step - loss: 0.5309 - accuracy: 0.7963 - val_loss: 1.0165 - val_accuracy: 0.5952\n",
      "\n",
      "Epoch 00006: val_accuracy improved from 0.52381 to 0.59524, saving model to ../trained-models/cnn-news-type-prediction.h5\n",
      "Epoch 7/15\n",
      "24/24 [==============================] - 1s 24ms/step - loss: 0.3115 - accuracy: 0.8771 - val_loss: 0.9596 - val_accuracy: 0.6548\n",
      "\n",
      "Epoch 00007: val_accuracy improved from 0.59524 to 0.65476, saving model to ../trained-models/cnn-news-type-prediction.h5\n",
      "Epoch 8/15\n",
      "24/24 [==============================] - 1s 29ms/step - loss: 0.1243 - accuracy: 0.9863 - val_loss: 1.0671 - val_accuracy: 0.6429\n",
      "\n",
      "Epoch 00008: val_accuracy did not improve from 0.65476\n",
      "Epoch 9/15\n",
      "24/24 [==============================] - 0s 18ms/step - loss: 0.0676 - accuracy: 0.9879 - val_loss: 0.9629 - val_accuracy: 0.6786\n",
      "\n",
      "Epoch 00009: val_accuracy improved from 0.65476 to 0.67857, saving model to ../trained-models/cnn-news-type-prediction.h5\n",
      "Epoch 10/15\n",
      "24/24 [==============================] - 1s 32ms/step - loss: 0.0489 - accuracy: 0.9893 - val_loss: 1.0199 - val_accuracy: 0.6786\n",
      "\n",
      "Epoch 00010: val_accuracy did not improve from 0.67857\n",
      "Epoch 11/15\n",
      "24/24 [==============================] - 1s 21ms/step - loss: 0.0207 - accuracy: 0.9969 - val_loss: 1.0679 - val_accuracy: 0.6905\n",
      "\n",
      "Epoch 00011: val_accuracy improved from 0.67857 to 0.69048, saving model to ../trained-models/cnn-news-type-prediction.h5\n",
      "Epoch 12/15\n",
      "24/24 [==============================] - 1s 23ms/step - loss: 0.0126 - accuracy: 0.9976 - val_loss: 1.0323 - val_accuracy: 0.7024\n",
      "\n",
      "Epoch 00012: val_accuracy improved from 0.69048 to 0.70238, saving model to ../trained-models/cnn-news-type-prediction.h5\n",
      "Epoch 13/15\n",
      "24/24 [==============================] - 1s 22ms/step - loss: 0.0162 - accuracy: 0.9930 - val_loss: 1.0864 - val_accuracy: 0.7024\n",
      "\n",
      "Epoch 00013: val_accuracy did not improve from 0.70238\n",
      "Epoch 14/15\n",
      "24/24 [==============================] - 1s 21ms/step - loss: 0.0107 - accuracy: 0.9971 - val_loss: 1.0659 - val_accuracy: 0.7024\n",
      "\n",
      "Epoch 00014: val_accuracy did not improve from 0.70238\n",
      "Epoch 15/15\n",
      "24/24 [==============================] - 0s 18ms/step - loss: 0.0077 - accuracy: 1.0000 - val_loss: 1.0978 - val_accuracy: 0.7024\n",
      "\n",
      "Epoch 00015: val_accuracy did not improve from 0.70238\n"
     ]
    }
   ],
   "source": [
    "save_callback = get_model_checkpoint_callback('../trained-models/cnn-news-type-prediction.h5')\n",
    "history = cnn_model.fit(\n",
    "    x=x_train,\n",
    "    y=y_train,\n",
    "    epochs=15,\n",
    "    batch_size=32,\n",
    "    validation_split=0.1,\n",
    "    callbacks=[save_callback]\n",
    ")"
   ]
  },
  {
   "cell_type": "code",
   "execution_count": 21,
   "id": "1c723ddb",
   "metadata": {},
   "outputs": [
    {
     "name": "stdout",
     "output_type": "stream",
     "text": [
      "The accuracy of the model = 0.722\n"
     ]
    }
   ],
   "source": [
    "score = cnn_model.evaluate(x_test, y_test, verbose=0)\n",
    "\n",
    "print(f'The accuracy of the model = {round(score[1], 3)}')"
   ]
  },
  {
   "cell_type": "code",
   "execution_count": 22,
   "id": "8d89be37",
   "metadata": {},
   "outputs": [
    {
     "data": {
      "image/png": "[encoded data removed]",
      "text/plain": [
       "<Figure size 432x288 with 1 Axes>"
      ]
     },
     "metadata": {
      "needs_background": "light"
     },
     "output_type": "display_data"
    }
   ],
   "source": [
    "plot_hisory(history.history)"
   ]
  }
 ],
 "metadata": {
  "kernelspec": {
   "display_name": "Python 3",
   "language": "python",
   "name": "python3"
  },
  "language_info": {
   "codemirror_mode": {
    "name": "ipython",
    "version": 3
   },
   "file_extension": ".py",
   "mimetype": "text/x-python",
   "name": "python",
   "nbconvert_exporter": "python",
   "pygments_lexer": "ipython3",
   "version": "3.8.8"
  }
 },
 "nbformat": 4,
 "nbformat_minor": 5
}

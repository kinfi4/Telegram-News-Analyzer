{
 "cells": [
  {
   "cell_type": "code",
   "execution_count": 1,
   "id": "418e5bd7",
   "metadata": {},
   "outputs": [],
   "source": [
    "import pandas as pd"
   ]
  },
  {
   "cell_type": "code",
   "execution_count": 2,
   "id": "aaa74aba",
   "metadata": {},
   "outputs": [],
   "source": [
    "df = pd.read_csv('../training-data/processed-data/processed-dataset.csv')"
   ]
  },
  {
   "cell_type": "code",
   "execution_count": 3,
   "id": "cbbf89ad",
   "metadata": {},
   "outputs": [
    {
     "data": {
      "text/plain": [
       "'досудебный расследование факт покупка енпф пакет облигация тоо бузгул аурум инициатива национальный банк рк сообщить директор департамент защита право потребитель финансовый услуга нацбанк казахстан александр терентьевоснование досудебный расследование обращение национальный банк письмо 25 ноябрь 2016 обращение национальный банк правоохранительный орган сделка показаться сомнительный недостаточно корректный поэтому нацбанк 25 ноябрь 2016 обратиться правоохранительный орган озвучить следствие проводиться проверка терентьев28 декабрь нацбанк заявить основание проверка енпф23 декабрь факт проведение проверка ао единый накопительный пенсионный фонд подтвердиться прессслужба национальный банк сообщить проверка проводить операция совершить ао енпф отношение инвестирование собственный активовтакж финрегулятор сообщать сделка енпф сумма млрд завести уголовный нацбанк заверять происходить затрагивать пенсионный накопление казахстанцевести наслать ошибка текст выделить мыший нажать ctrlenter'"
      ]
     },
     "execution_count": 3,
     "metadata": {},
     "output_type": "execute_result"
    }
   ],
   "source": [
    "df['text'][0]"
   ]
  }
 ],
 "metadata": {
  "kernelspec": {
   "display_name": "Python 3",
   "language": "python",
   "name": "python3"
  },
  "language_info": {
   "codemirror_mode": {
    "name": "ipython",
    "version": 3
   },
   "file_extension": ".py",
   "mimetype": "text/x-python",
   "name": "python",
   "nbconvert_exporter": "python",
   "pygments_lexer": "ipython3",
   "version": "3.8.8"
  }
 },
 "nbformat": 4,
 "nbformat_minor": 5
}
